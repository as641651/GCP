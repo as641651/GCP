{
 "cells": [
  {
   "cell_type": "markdown",
   "metadata": {},
   "source": [
    "\n",
    "**IMPORTANT**: \n",
    "> Incase you add lines later in the docker file that requires apt-get update to be run before, make sure update added just before that line. Otherwise,if update occered earlier in the file, it will be in cache and it wont be executed when Dockerfile had been changed.\n",
    "\n",
    "## 1)  Sample Docker Setup for using webcam\n",
    "\n",
    "Here is an example of setting up docker container from **Ubuntu 16.04** base image\n",
    "\n",
    "See **docker-webcam/** for detailed example"
   ]
  },
  {
   "cell_type": "markdown",
   "metadata": {},
   "source": [
    "**Dockerfile**\n",
    "\n",
    "```dockerfile\n",
    "FROM ubuntu:16.04\n",
    "\n",
    "RUN apt-get update\n",
    "\n",
    "# For bash, and auto-complete on command line l\n",
    "# -y specifies we confirm the installation. Otherwise, the code will hang up\n",
    "RUN apt-get -y install build-essential \n",
    "\n",
    "# To find OS version (lsb_release -a)\n",
    "RUN apt-get -y install lsb-release \n",
    "\n",
    "# python3.5 gets installed\n",
    "RUN apt-get -y install python3-pip\n",
    "\n",
    "#To view files\n",
    "RUN apt-get -y install vim \n",
    "\n",
    "#Install python dependencies\n",
    "WORKDIR /home/python-requirements\n",
    "COPY python-requirements/requirements.txt .\n",
    "RUN pip3 install -r requirements.txt\n",
    "\n",
    "WORKDIR /home\n",
    "\n",
    "CMD [\"bash\"] \n",
    "```"
   ]
  },
  {
   "cell_type": "markdown",
   "metadata": {},
   "source": [
    "**Build**\n",
    "\n",
    "```bash\n",
    "docker build -t senesence/docker-webcam .\n",
    "```"
   ]
  },
  {
   "cell_type": "markdown",
   "metadata": {},
   "source": [
    "**Run**\n",
    "\n",
    "> The device should have been listed before running the docker \n",
    "```bash\n",
    "docker run -it --device /dev/video0 ...\n",
    "```\n",
    ">> In case it gets complicated to find devices, use **--privileged** and map all devices \n",
    "```bash\n",
    "docker run -it --privileged -v /dev:/dev ...\n",
    "```\n",
    "\n",
    "> **To find the device folder in your machine (command line)**\n",
    "```bash\n",
    "sudo apt-get install v4l-utils\n",
    "v4l2-ctl --list-devices\n",
    "```\n",
    ">> **OUTPUT** : \n",
    "Webcam C170 (usb-0000:00:14.0-4):\n",
    "\t/dev/video0\n",
    "\n",
    "\n",
    "```bash\n",
    "docker run -it -p 0.0.0.0:8000:8888 -p 0.0.0.0:6005:6006 -v ${1:-$PWD}:/home  --device /dev/video0 --runtime=nvidia senesence/docker-webcam\n",
    "```"
   ]
  },
  {
   "cell_type": "markdown",
   "metadata": {},
   "source": [
    "**Run jupyter notebook inside container**\n",
    "\n",
    "Does not work without --ip=0.0.0.0\n",
    "```bash\n",
    "jupyter-notebook --ip=0.0.0.0 --allow-root\n",
    "```"
   ]
  },
  {
   "cell_type": "markdown",
   "metadata": {},
   "source": [
    "## 2)  Sample Docker Setup for using audio devices\n",
    "\n",
    "See **docker-audio/** for detailed example"
   ]
  },
  {
   "cell_type": "markdown",
   "metadata": {},
   "source": [
    "### Set up audio drivers\n",
    "\n",
    "We use **pulseaudio server as default** [Reference](https://askubuntu.com/questions/972510/how-to-set-alsa-default-device-to-pulseaudio-sound-server-on-docker)\n",
    "\n",
    "> **Install audio drivers and dependencies**\n",
    "```bash\n",
    "RUN apt-get -y install libportaudio2\n",
    "RUN apt-get -y install alsa-base \n",
    "RUN apt-get -y install alsa-utils #for playing sound files with aplay \n",
    "RUN apt-get -y install pulseaudio\n",
    "```\n",
    "\n",
    "> **Set PULSE_SERVER** environment variable, **mount** the corresponding directory. Mount the **cookie directory** as well, without which we get alsa permission denied error\n",
    "```bash\n",
    "echo $XDG_RUNTIME_DIR\n",
    "'/run/user/1000'\n",
    "docker run -it \\\n",
    "        -e PULSE_SERVER=unix:${XDG_RUNTIME_DIR}/pulse/native \\ #Set environment variable \n",
    "        -v ${XDG_RUNTIME_DIR}/pulse/native:${XDG_RUNTIME_DIR}/pulse/native \\ #Mount directory\n",
    "        -v ~/.config/pulse/cookie:/root/.config/pulse/cookie #Set up cookie \n",
    "```\n",
    "\n",
    "> **Check setup** (in the container)\n",
    "```bash\n",
    "aplay -L | head -n9\n",
    "```\n",
    ">> **Output** :\n",
    "```bash\n",
    "default\n",
    "    Playback/recording through the PulseAudio sound server\n",
    "    ...\n",
    "```\n",
    "\n",
    "> Check if the speaker works when you play an audio file\n",
    "```bash\n",
    "aplay sample.wav\n",
    "```"
   ]
  },
  {
   "cell_type": "markdown",
   "metadata": {},
   "source": [
    "**Dockerfile**\n",
    "\n",
    "```dockerfile\n",
    "FROM ubuntu:16.04\n",
    "\n",
    "RUN apt-get update\n",
    "RUN apt-get -y install build-essential lsb-release #For bash, lsb_release -a\n",
    "RUN apt-get -y install python3-pip\n",
    "RUN apt-get -y install vim \n",
    "\n",
    "#Incase you add this line later, make sure update is run. Sometimes, update will be in cache and it wont be executed\n",
    "RUN apt-get -y install libportaudio2\n",
    "RUN apt-get -y install alsa-base alsa-utils pulseaudio\n",
    "\n",
    "WORKDIR /home/python-requirements\n",
    "COPY python-requirements/requirements.txt .\n",
    "RUN pip3 install -r requirements.txt\n",
    "\n",
    "WORKDIR /home\n",
    "\n",
    "CMD [\"bash\"]\n",
    "```"
   ]
  },
  {
   "cell_type": "markdown",
   "metadata": {},
   "source": [
    "**Run**\n",
    "\n",
    "> Make sure **--device /dev/snd** is added"
   ]
  },
  {
   "cell_type": "markdown",
   "metadata": {},
   "source": [
    "```bash\n",
    "docker run -it -p 8000:8888 -p 0.0.0.0:6005:6006 -v ${1:-$PWD}:/home --device /dev/snd  -e PULSE_SERVER=unix:${XDG_RUNTIME_DIR}/pulse/native -v ${XDG_RUNTIME_DIR}/pulse/native:${XDG_RUNTIME_DIR}/pulse/native -v ~/.config/pulse/cookie:/root/.config/pulse/cookie  --runtime=nvidia senesence/docker-audio\n",
    "```    "
   ]
  }
 ],
 "metadata": {
  "kernelspec": {
   "display_name": "Python 3",
   "language": "python",
   "name": "python3"
  },
  "language_info": {
   "codemirror_mode": {
    "name": "ipython",
    "version": 3
   },
   "file_extension": ".py",
   "mimetype": "text/x-python",
   "name": "python",
   "nbconvert_exporter": "python",
   "pygments_lexer": "ipython3",
   "version": "3.4.3"
  }
 },
 "nbformat": 4,
 "nbformat_minor": 2
}
