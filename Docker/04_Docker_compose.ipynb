{
 "cells": [
  {
   "cell_type": "markdown",
   "metadata": {},
   "source": [
    "## Docker compose\n",
    "\n"
   ]
  },
  {
   "cell_type": "markdown",
   "metadata": {},
   "source": [
    "> **Containers** are by default isolated from each other. **Docker compose** is used to **enable** communication between **different containers**\n",
    "\n",
    "> **Wraps** docker **build** and **run** commands. It is useful when we have a long run command and we dont want to execute it everytime.\n",
    "\n",
    ">It can also **run multiple containers**\n",
    "\n",
    "<img src=\"pics/docker_compose\" width=600px />"
   ]
  },
  {
   "cell_type": "markdown",
   "metadata": {},
   "source": [
    "### Illustraion"
   ]
  },
  {
   "cell_type": "markdown",
   "metadata": {},
   "source": [
    "> Consider the following usecase:\n",
    "\n",
    ">> We want a **flask app** and **django app** running in **different containers** in **same host machine**\n",
    "\n",
    ">> We also want a **redis server** that **counts** the **visitors** to **both the applications**\n",
    "\n",
    "<img src=\"pics/docker_compose_illus\" width=500px />"
   ]
  },
  {
   "cell_type": "markdown",
   "metadata": {},
   "source": [
    "> **docker-compose.yml**\n",
    "```bash\n",
    "version: '3'\n",
    "services: #List of all images\n",
    "   redis-server:\n",
    "      image: 'redis' #image in docker hub\n",
    "   flask1:\n",
    "      build: flask1/ #location of Dockerfile corresponding to flask1\n",
    "      ports:\n",
    "         - \"4000:8000\"\n",
    "   flask2:\n",
    "      build: flask2/ #location of Dockerfile corresponding to flask2\n",
    "      ports:\n",
    "         - \"4001:8000\"\n",
    "```"
   ]
  },
  {
   "cell_type": "markdown",
   "metadata": {},
   "source": [
    "> **flask1/Dockerfile** (for simplicity, the other dockerfile also looks same)\n",
    "```bash\n",
    "FROM python:3.7.1-alpine3.7\n",
    "RUN pip install flask==1.0.2\n",
    "RUN pip install redis\n",
    "WORKDIR /home\n",
    "COPY ./ ./\n",
    "CMD [\"python\",\"main.py\"]\n",
    "```"
   ]
  },
  {
   "cell_type": "markdown",
   "metadata": {},
   "source": [
    ">**flask1/main.py**\n",
    "\n",
    "```python\n",
    "        from flask import Flask\n",
    "        import redis\n",
    "\n",
    "        #Connecting to redis server\n",
    "        r = redis.Redis(host='redis-server') \n",
    "        #hostname is the image name in docker-compose.yml\n",
    "        #if the server is on different macine, this will be its ip address\n",
    "        r.set('visits',0)\n",
    "\n",
    "        app = Flask(__name__)\n",
    "        app.debug=True\n",
    "\n",
    "        @app.route('/')\n",
    "        def index():\n",
    "            v = r.get('visits')\n",
    "            #increment visits\n",
    "            r.set('visits',int(v)+1)\n",
    "            #if the container is on different machine, this will be its ip address\n",
    "            out = \"<h1>Hi Flask1. <a href='http://localhost:4001'>Link To Flask2</a></h1>\"\n",
    "            out += \"<p>Visits : \" + str(int(v))  + \"</p>\"\n",
    "            return out\n",
    "\n",
    "        if __name__ == '__main__':\n",
    "           app.run(host='0.0.0.0',port=8000)\n",
    "```"
   ]
  },
  {
   "cell_type": "markdown",
   "metadata": {},
   "source": [
    "> We have a similar **flask2/main.py** that adds counts of visits to its app"
   ]
  },
  {
   "cell_type": "markdown",
   "metadata": {},
   "source": [
    "### Compile"
   ]
  },
  {
   "cell_type": "markdown",
   "metadata": {},
   "source": [
    ">To **build** the images **and run**\n",
    "```bash\n",
    "docker-compose up --build #from the folder conatining docker-compose.yml\n",
    "```\n",
    "Now you can see additional images for Dockerfiles in cache with default tag **docker compose [SERVICE_NAME]**\n",
    "\n",
    ">To only **run** the built image\n",
    "```bash\n",
    "docker-compose up\n",
    "```"
   ]
  },
  {
   "cell_type": "markdown",
   "metadata": {},
   "source": [
    "### More commands\n",
    "\n",
    "> **Launch in background**\n",
    "```bash\n",
    "docker-compose up -d\n",
    "```\n",
    ">**Stop containers**\n",
    "```bash\n",
    "docker-compose down\n",
    "```\n",
    ">To see **status** of all containers running **corresponding to a docker-compose file**\n",
    "```bash\n",
    "docker-compose ps #from directory containing docker-compose.yml\n",
    "```"
   ]
  },
  {
   "cell_type": "markdown",
   "metadata": {},
   "source": [
    "### Restart policies\n",
    "\n",
    "> Often times, we want our server to automatically restart in case of failures. In those cases, we spicify the **restart policy** in **docker-compose.yml**\n",
    "```bash\n",
    "services: #List of all images\n",
    "   flask1:\n",
    "      build: flask1/ \n",
    "      restart: on-failure #if app stops with error code >0, it automatically restarts\n",
    "      ports:\n",
    "         - \"4000:8000\"\n",
    "```\n",
    "\n",
    "> **Policies**:\n",
    "\n",
    ">> **\"no\"** : (Default) Never restart\n",
    "\n",
    ">> **always** : Always restart. Used for webservers that are always running\n",
    "\n",
    ">> **on-failure** : Restart when there are common errors, like unable to write to file system\n",
    "\n",
    ">> **unless-stopped** : Stop only when it is forced "
   ]
  },
  {
   "cell_type": "markdown",
   "metadata": {},
   "source": [
    "### Using different Dockerfile name\n",
    "\n",
    ">Lets say we name the dockerfile as **Dockerfile.dev** (commonly used convention for development code)\n",
    "```bash\n",
    "services:\n",
    "    flask1:\n",
    "       build:\n",
    "         context: flask1/\n",
    "         dockerfile: Dockerfile.dev\n",
    "```"
   ]
  },
  {
   "cell_type": "markdown",
   "metadata": {},
   "source": [
    "### Specifying volumes\n",
    "\n",
    ">We specify volumns under **volumes** section\n",
    "```bash\n",
    "services:\n",
    "    flask1:\n",
    "       volumes:\n",
    "         - /home/dep\n",
    "         - .:/home #current dir mapped to /home\n",
    "         - /home/sank/image_data:/data\n",
    "```"
   ]
  },
  {
   "cell_type": "markdown",
   "metadata": {},
   "source": [
    "### Overriding start up command in docker file\n",
    "\n",
    ">Specify under **command** section\n",
    "```bash\n",
    "services:\n",
    "   redis-server:\n",
    "      image: redis\n",
    "      stdin_open: true # -i (not working)\n",
    "      tty: true # -t (not working)\n",
    "      command: [\"sh\"]\n",
    "```"
   ]
  },
  {
   "cell_type": "markdown",
   "metadata": {},
   "source": [
    "### Specifying build image name and container name\n",
    "\n",
    "> Specify the **image** option and **container_name** option\n",
    "```bash\n",
    "services:\n",
    "   flask1:\n",
    "      build: .\n",
    "      image: flask1\n",
    "      container_name: flask_container\n",
    "```"
   ]
  },
  {
   "cell_type": "code",
   "execution_count": null,
   "metadata": {},
   "outputs": [],
   "source": []
  }
 ],
 "metadata": {
  "kernelspec": {
   "display_name": "Python 3",
   "language": "python",
   "name": "python3"
  },
  "language_info": {
   "codemirror_mode": {
    "name": "ipython",
    "version": 3
   },
   "file_extension": ".py",
   "mimetype": "text/x-python",
   "name": "python",
   "nbconvert_exporter": "python",
   "pygments_lexer": "ipython3",
   "version": "3.4.3"
  }
 },
 "nbformat": 4,
 "nbformat_minor": 2
}
