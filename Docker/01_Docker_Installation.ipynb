{
 "cells": [
  {
   "cell_type": "markdown",
   "metadata": {},
   "source": [
    "## Installing Docker in Linux "
   ]
  },
  {
   "cell_type": "markdown",
   "metadata": {},
   "source": [
    "1) [Download](https://download.docker.com/linux) the **.deb** file for **docker.io** for your version of linux\n",
    "\n",
    ">To find the **release version** of your Linux OS\n",
    "```bash\n",
    "lsb_release -a\n",
    "```\n",
    ">> **o/p:**\n",
    "```bash\n",
    "Distributor ID:\tDebian\n",
    "Description:\tDebian GNU/Linux 9.5 (stretch)\n",
    "Release:\t9.5\n",
    "Codename:\tstretch\n",
    "```\n",
    "> For this OS, you ll have to look under **debian/stretch/pool/stable**\n",
    "\n",
    ">> **o/p:**\n",
    "```bash\n",
    "Distributor ID:\tUbuntu\n",
    "Description:\tUbuntu 14.04.5 LTS\n",
    "Release:\t14.04\n",
    "Codename:\ttrusty\n",
    "```\n",
    "> For this OS, you ll have to look under **ubuntu/trusty/pool/stable**\n",
    "\n",
    "> You may also have to know the processor arch **amd64** or **arm64**, which can be found by hitting\n",
    "```bash\n",
    "uname -a\n",
    "```"
   ]
  },
  {
   "cell_type": "markdown",
   "metadata": {},
   "source": [
    "2) If you are on Google cloud VM instance, you ll have to install\n",
    "```bash\n",
    "sudo apt-get install libltdl7\n",
    "```\n",
    "Install the **.deb** file\n",
    "```bash\n",
    "sudo dpkg -i docker-ce_18.03.1~ce-0~debian_amd64.deb\n",
    "```"
   ]
  },
  {
   "cell_type": "markdown",
   "metadata": {},
   "source": [
    "3) Check installation\n",
    "```bash\n",
    "sudo docker run hello-world\n",
    "```\n",
    "> To use docker without sudo, you ll have to add the user to docker group, logout and login\n",
    "```bash\n",
    "sudo usermod -aG docker $USER\n",
    "```"
   ]
  },
  {
   "cell_type": "code",
   "execution_count": null,
   "metadata": {},
   "outputs": [],
   "source": []
  }
 ],
 "metadata": {
  "kernelspec": {
   "display_name": "Python 3",
   "language": "python",
   "name": "python3"
  },
  "language_info": {
   "codemirror_mode": {
    "name": "ipython",
    "version": 3
   },
   "file_extension": ".py",
   "mimetype": "text/x-python",
   "name": "python",
   "nbconvert_exporter": "python",
   "pygments_lexer": "ipython3",
   "version": "3.4.3"
  }
 },
 "nbformat": 4,
 "nbformat_minor": 2
}
