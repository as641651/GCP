{
 "cells": [
  {
   "cell_type": "markdown",
   "metadata": {},
   "source": [
    "## Installing Docker in Linux \n",
    "\n",
    "**IMPORTANT**: Docker needs **root access** to be installed! Non sudo users cannot install docker"
   ]
  },
  {
   "cell_type": "markdown",
   "metadata": {},
   "source": [
    "1) [Download](https://download.docker.com/linux) the **.deb** file for **docker.io** for your version of linux\n",
    "\n",
    ">To find the **release version** of your Linux OS\n",
    "```bash\n",
    "lsb_release -a\n",
    "```\n",
    ">> **o/p:**\n",
    "```bash\n",
    "Distributor ID:\tDebian\n",
    "Description:\tDebian GNU/Linux 9.5 (stretch)\n",
    "Release:\t9.5\n",
    "Codename:\tstretch\n",
    "```\n",
    "> For this OS, you ll have to look under **debian/stretch/pool/stable**\n",
    "\n",
    ">> **o/p:**\n",
    "```bash\n",
    "Distributor ID:\tUbuntu\n",
    "Description:\tUbuntu 14.04.5 LTS\n",
    "Release:\t14.04\n",
    "Codename:\ttrusty\n",
    "```\n",
    "> For this OS, you ll have to look under **ubuntu/trusty/pool/stable**\n",
    "\n",
    "> You may also have to know the processor arch **amd64** or **arm64**, which can be found by hitting\n",
    "```bash\n",
    "uname -a\n",
    "```"
   ]
  },
  {
   "cell_type": "markdown",
   "metadata": {},
   "source": [
    "2) **Dependencies**\n",
    "\n",
    "> If you are on Google cloud VM instance, you ll have to install\n",
    "```bash\n",
    "sudo apt-get install libltdl7\n",
    "```\n",
    "\n",
    "> Sometimes you may need to install this (Ubuntu 16.04),\n",
    "```bash\n",
    "sudo apt-get install libseccomp2\n",
    "```\n",
    ">> **Note**: In ubuntu 16.04, installing this automatically installed docker\n",
    "\n",
    "**Installation**\n",
    "\n",
    "Install the **.deb** file\n",
    "```bash\n",
    "sudo dpkg -i docker-ce_18.03.1~ce-0~debian_amd64.deb\n",
    "```"
   ]
  },
  {
   "cell_type": "markdown",
   "metadata": {},
   "source": [
    "3) Check installation\n",
    "```bash\n",
    "sudo docker run hello-world\n",
    "```\n",
    "> To use docker without sudo, you ll have to add the user to docker group, **logout and login**\n",
    "```bash\n",
    "sudo usermod -aG docker $USER\n",
    "```\n",
    ">> **Note:** Or you can do this to avoid login and logout\n",
    "```bash\n",
    "sudo setfacl -m user:username:rw /var/run/docker.sock\n",
    "```\n",
    "[Reference](https://askubuntu.com/questions/477551/how-can-i-use-docker-without-sudo)"
   ]
  },
  {
   "cell_type": "markdown",
   "metadata": {},
   "source": [
    "### Installing docker-compose\n",
    "(Not needed for TensorflowDocker)\n",
    "\n",
    "> **Docker compose** is used for **networking between different containers** in the host system\n",
    "\n",
    "> To install, you just have to place the **binary** in the **bin** folder (for updated version, check [release doc](https://github.com/docker/compose/releases)\n",
    "```bash\n",
    "sudo curl -L \"https://github.com/docker/compose/releases/download/1.23.1/docker-compose-$(uname -s)-$(uname -m)\" -o /usr/local/bin/docker-compose\n",
    "```\n",
    "> Set permission for this binary to be executable\n",
    "```bash\n",
    "sudo chmod +x /usr/local/bin/docker-compose\n",
    "```\n",
    "> Check installation\n",
    "```bash\n",
    "docker-compose --version\n",
    "```\n"
   ]
  },
  {
   "cell_type": "code",
   "execution_count": null,
   "metadata": {},
   "outputs": [],
   "source": []
  }
 ],
 "metadata": {
  "kernelspec": {
   "display_name": "Python 3",
   "language": "python",
   "name": "python3"
  },
  "language_info": {
   "codemirror_mode": {
    "name": "ipython",
    "version": 3
   },
   "file_extension": ".py",
   "mimetype": "text/x-python",
   "name": "python",
   "nbconvert_exporter": "python",
   "pygments_lexer": "ipython3",
   "version": "3.4.3"
  }
 },
 "nbformat": 4,
 "nbformat_minor": 2
}
