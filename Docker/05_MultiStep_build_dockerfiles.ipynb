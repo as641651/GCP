{
 "cells": [
  {
   "cell_type": "markdown",
   "metadata": {},
   "source": [
    "## Multi Step builds "
   ]
  },
  {
   "cell_type": "markdown",
   "metadata": {},
   "source": [
    "> It is **not possible** to have **two base images** at **same time** in a **Dockerfile**\n",
    "\n",
    "> However, it is possible to have **different base images executed after one another**. When the **second image is loaded**, the **first image** is **automatically deleted**"
   ]
  },
  {
   "cell_type": "markdown",
   "metadata": {},
   "source": [
    "### Illustraion\n",
    "\n",
    "> Consider the following usecase: We use a base image to build the code, and then use a different base image to deploy the code. This setting is commonly used in production of nodejs code\n",
    "\n",
    "```bash\n",
    "    ## First image\n",
    "    #builder is the ID of the current phase. This id will be used in next phase\n",
    "    FROM node:alpine as builder \n",
    "    WORKDIR '/app'\n",
    "    COPY package.json .\n",
    "    RUN npm install\n",
    "    COPY . .\n",
    "    RUN npm run build #creates folder /app/build\n",
    "\n",
    "    ##Second image. No need to specify phase name here\n",
    "    FROM nginx #npm is no longer available\n",
    "    COPY --from=builder /app/build /usr/share/nginx/html #Copy files from previous phase\n",
    "```"
   ]
  },
  {
   "cell_type": "markdown",
   "metadata": {},
   "source": [
    "> **NOTE:** \n",
    "\n",
    ">> Although **django** or **nodejs** have their own **development server**, they are not used for **production** as they are **slow**. Hence we use services like **nginx** and **gunicorn**. Check [here](https://medium.freecodecamp.org/dockerizing-django-in-development-and-production-bf8b9292330f) to see how to dockerize django on development and production environments"
   ]
  },
  {
   "cell_type": "code",
   "execution_count": null,
   "metadata": {},
   "outputs": [],
   "source": []
  }
 ],
 "metadata": {
  "kernelspec": {
   "display_name": "Python 3",
   "language": "python",
   "name": "python3"
  },
  "language_info": {
   "codemirror_mode": {
    "name": "ipython",
    "version": 3
   },
   "file_extension": ".py",
   "mimetype": "text/x-python",
   "name": "python",
   "nbconvert_exporter": "python",
   "pygments_lexer": "ipython3",
   "version": "3.4.3"
  }
 },
 "nbformat": 4,
 "nbformat_minor": 2
}
