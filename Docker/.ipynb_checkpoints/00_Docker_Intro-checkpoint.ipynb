{
 "cells": [
  {
   "cell_type": "markdown",
   "metadata": {},
   "source": [
    "### Why use Docker?\n",
    "\n",
    "> 1) Docker makes installation of softwares easy on any computer, by making the installation independent from OS\n",
    "\n",
    "> 2) You dont have to worry about dependencies.\n",
    "\n",
    "> 3) Makes portability of code easy"
   ]
  },
  {
   "cell_type": "markdown",
   "metadata": {},
   "source": [
    "### What is Docker?\n",
    "\n",
    "> Docker is a platform or ecosystem around creating and running **containers**\n",
    "\n",
    "> Docker stores **images** of softwares in a repository called **docker hub**. To run on local machine, docker creates a container by pulling the image from the hub\n",
    "\n",
    "<img src=\"pics/docker_img_container\" width=500px />"
   ]
  },
  {
   "cell_type": "markdown",
   "metadata": {},
   "source": [
    "> To run the image,\n",
    "```bash\n",
    "docker run IMAGE_NAME\n",
    "```\n",
    "\n",
    "<img src=\"pics/docker_pipeline\" width=500px />"
   ]
  },
  {
   "cell_type": "markdown",
   "metadata": {},
   "source": [
    "### What is a container?\n",
    "\n",
    "> Container **segments** a portion of the **hard drive** for answering system calls from a particular process\n",
    "\n",
    "> Each container is completely isolated from the other\n",
    "\n",
    "<img src=\"pics/container\" width=500px />\n",
    "\n",
    "> Such **namespacing** of hardware resources can be done only in **linux** systems. Therefore, **docker** sets up a **linux virtual machine** on MacOS/Windows. The **docker** command can only be run through **docker client** which is a linux VM (in windows/mac)  "
   ]
  },
  {
   "cell_type": "code",
   "execution_count": null,
   "metadata": {},
   "outputs": [],
   "source": []
  }
 ],
 "metadata": {
  "kernelspec": {
   "display_name": "Python 3",
   "language": "python",
   "name": "python3"
  },
  "language_info": {
   "codemirror_mode": {
    "name": "ipython",
    "version": 3
   },
   "file_extension": ".py",
   "mimetype": "text/x-python",
   "name": "python",
   "nbconvert_exporter": "python",
   "pygments_lexer": "ipython3",
   "version": "3.4.3"
  }
 },
 "nbformat": 4,
 "nbformat_minor": 2
}
