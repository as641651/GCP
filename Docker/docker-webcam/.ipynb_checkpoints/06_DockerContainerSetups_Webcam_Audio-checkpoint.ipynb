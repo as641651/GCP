{
 "cells": [
  {
   "cell_type": "markdown",
   "metadata": {},
   "source": [
    "## Sample Dockerfile for setting up webcam\n",
    "\n",
    "Here is an example of setting up docker container from **ubuntu 16.04** base image"
   ]
  },
  {
   "cell_type": "markdown",
   "metadata": {},
   "source": [
    "```dockerfile\n",
    "FROM ubuntu:16.04\n",
    "\n",
    "RUN apt-get update\n",
    "\n",
    "# For bash, and auto-complete on command line l\n",
    "# -y specifies we confirm the installation. Otherwise, the code will hang up\n",
    "RUN apt-get -y install build-essential \n",
    "\n",
    "# To find OS version (lsb_release -a)\n",
    "RUN apt-get -y install lsb-release \n",
    "\n",
    "# python3.5 gets installed\n",
    "RUN apt-get -y install python3-pip\n",
    "\n",
    "#To view files\n",
    "RUN apt-get -y install vim \n",
    "\n",
    "#Install python dependencies\n",
    "WORKDIR /home/python-requirements\n",
    "COPY python-requirements/requirements.txt .\n",
    "RUN pip3 install -r requirements.txt\n",
    "\n",
    "WORKDIR /home\n",
    "\n",
    "CMD [\"bash\"] \n",
    "```"
   ]
  },
  {
   "cell_type": "markdown",
   "metadata": {},
   "source": [
    "**Build**\n",
    "\n",
    "```bash\n",
    "docker build -t senesence/docker-webcam .\n",
    "```"
   ]
  },
  {
   "cell_type": "markdown",
   "metadata": {},
   "source": [
    "**Run**\n",
    "\n",
    "> The device should have been listed before running the docker \n",
    "```bash\n",
    "docker run -it --device /dev/video0:/dev/video0 ...\n",
    "```\n",
    ">> In case it gets complicated to find devices, use **--privileged** and map all devices \n",
    "```bash\n",
    "docker run -it --privileged -v /dev:/dev ...\n",
    "```\n",
    "\n",
    "> **To find the device folder in your machine (command line)**\n",
    "```bash\n",
    "sudo apt-get install v4l-utils\n",
    "v4l2-ctl --list-devices\n",
    "```\n",
    ">> **OUTPUT** : \n",
    "Webcam C170 (usb-0000:00:14.0-4):\n",
    "\t/dev/video0\n",
    "\n",
    "\n",
    "```bash\n",
    "docker run -it -p 0.0.0.0:8000:8888 -p 0.0.0.0:6005:6006 -v ${1:-$PWD}:/home  --device /dev/video0:/dev/video0 --runtime=nvidia senesence/docker-webcam\n",
    "```"
   ]
  },
  {
   "cell_type": "markdown",
   "metadata": {},
   "source": [
    "**Run jupyter notebook inside container**\n",
    "\n",
    "Does not work without --ip=0.0.0.0\n",
    "```bash\n",
    "jupyter-notebook --ip=0.0.0.0 --allow-root\n",
    "```"
   ]
  },
  {
   "cell_type": "code",
   "execution_count": null,
   "metadata": {},
   "outputs": [],
   "source": []
  }
 ],
 "metadata": {
  "kernelspec": {
   "display_name": "Python 3",
   "language": "python",
   "name": "python3"
  },
  "language_info": {
   "codemirror_mode": {
    "name": "ipython",
    "version": 3
   },
   "file_extension": ".py",
   "mimetype": "text/x-python",
   "name": "python",
   "nbconvert_exporter": "python",
   "pygments_lexer": "ipython3",
   "version": "3.5.2"
  }
 },
 "nbformat": 4,
 "nbformat_minor": 2
}
