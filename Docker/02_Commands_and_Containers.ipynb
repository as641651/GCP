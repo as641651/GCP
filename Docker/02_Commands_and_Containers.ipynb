{
 "cells": [
  {
   "cell_type": "markdown",
   "metadata": {},
   "source": [
    "## Common commands"
   ]
  },
  {
   "cell_type": "markdown",
   "metadata": {},
   "source": [
    "### docker run [image name] [override start up command]\n",
    "\n",
    "<img src=\"pics/docker_run\" width=500px />\n",
    "\n",
    "> Default **start up command** (that will be executed inside that container) can also be defined in the **image**. The command should be availble in the file system snapshot of the image.\n",
    "\n",
    "> The image is pulled from the hub if it is not locally available\n",
    "\n",
    "> The **run** command creates the **file system snapshot** of the **image** in the **hard drive**"
   ]
  },
  {
   "cell_type": "markdown",
   "metadata": {},
   "source": [
    "> **Eg,** pull the image **busybox** and run the command **ls** (defined within the image) : lists the files in the file system snapshot of the image\n",
    "\n",
    "```bash\n",
    "    docker run busybox ls\n",
    "\n",
    "    bin  dev  etc  home  proc  root\n",
    "```\n",
    "\n",
    "<img src=\"pics/busybox\" width=700px />"
   ]
  },
  {
   "cell_type": "markdown",
   "metadata": {},
   "source": [
    "### docker ps\n",
    "\n",
    "Commonly used to get the **container id** (different from **image id**)\n",
    "\n",
    "```bash\n",
    "docker ps\n",
    "```\n",
    "> Lists all running container\n",
    "\n",
    "```bash\n",
    "docker ps --all\n",
    "```\n",
    "> Lists all the containers that have been run"
   ]
  },
  {
   "cell_type": "markdown",
   "metadata": {},
   "source": [
    "### docker images\n",
    "\n",
    "> Lists all images available locally\n",
    "```bash\n",
    "docker images\n",
    "```"
   ]
  },
  {
   "cell_type": "markdown",
   "metadata": {},
   "source": [
    "## Container Life Cycle"
   ]
  },
  {
   "cell_type": "markdown",
   "metadata": {},
   "source": [
    "> **docker run** = **docker create** + **docker start**\n",
    "\n",
    "```bash\n",
    "#Creates the FS and execution command and outputs the container ID \n",
    "    docker create busybox ls\n",
    "    [CONTAINER_ID]\n",
    "#Start that container (executes the command ls)\n",
    "    docker start -a [CONTAINER_ID]\n",
    "#Running without -a does not print the output to terminal (Runs in background)\n",
    "    docker start [CONTAINER_ID]\n",
    "#However, we can get the output with docker logs command\n",
    "    docker logs [CONTAINER_ID]\n",
    "```\n",
    "\n",
    "> **docker run** creates a **new container** everytime. To **restart the old container**, get the container id from **ps** command and use **docker start -a [CONTAINER_ID]**\n",
    "\n",
    "```bash\n",
    "#Stops the running container\n",
    "    docker stop [CONTAINER_ID] #Process stops after its work is done. Invokes kill after 10s\n",
    "    docker kill [CONTAINER_ID] #Force stop\n",
    "```"
   ]
  },
  {
   "cell_type": "markdown",
   "metadata": {},
   "source": [
    "> To **delete all containers** and **unreferenced images**\n",
    "```bash\n",
    "docker system prune\n",
    "```"
   ]
  },
  {
   "cell_type": "markdown",
   "metadata": {},
   "source": [
    "## Running commands on to the container from different terminal"
   ]
  },
  {
   "cell_type": "markdown",
   "metadata": {},
   "source": [
    "> We ll demonstrate this use case with **redis** (This is a common usecase while working on servers)\n",
    "\n",
    "> In **terminal 1**\n",
    "\n",
    "```bash\n",
    "    docker run redis\n",
    "    #Starts redis server and keeps running. We are not able to type additional commands in this terminal\n",
    "```\n",
    ">> To run additional command in this container, open **terminal 2**\n",
    "\n",
    "```bash\n",
    "        #Get CONTAINER_ID\n",
    "        docker ps\n",
    "        #user docker exec\n",
    "        # -it opens an (shell) environment where we can interact with the container\n",
    "        # -i connects the STDIN to the container\n",
    "        # -t makes the output appear formatted\n",
    "        docker exec -it [CONTAINER_ID] redis-cli\n",
    "        #opens client\n",
    "        127.0.0.1:6379>\n",
    "        127.0.0.1:6379>\n",
    "```\n",
    "\n",
    "> To open **linux env shell**\n",
    "```bash\n",
    "docket exec -it [CONTAINER_ID] sh #can also use bash instead of sh, if it is defined\n",
    "@ redis-cli #assuming redis-server is up and running\n",
    "@127.0.0.1:6379>\n",
    "@127.0.0.1:6379>\n",
    "```\n",
    "\n",
    "> Can also open shell with **run**\n",
    "```bash\n",
    "docker run -it busybox sh\n",
    "```"
   ]
  },
  {
   "cell_type": "code",
   "execution_count": null,
   "metadata": {},
   "outputs": [],
   "source": []
  }
 ],
 "metadata": {
  "kernelspec": {
   "display_name": "Python 3",
   "language": "python",
   "name": "python3"
  },
  "language_info": {
   "codemirror_mode": {
    "name": "ipython",
    "version": 3
   },
   "file_extension": ".py",
   "mimetype": "text/x-python",
   "name": "python",
   "nbconvert_exporter": "python",
   "pygments_lexer": "ipython3",
   "version": "3.4.3"
  }
 },
 "nbformat": 4,
 "nbformat_minor": 2
}
