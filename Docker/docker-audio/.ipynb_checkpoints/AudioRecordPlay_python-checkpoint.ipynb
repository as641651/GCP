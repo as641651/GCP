{
 "cells": [
  {
   "cell_type": "markdown",
   "metadata": {},
   "source": [
    "### Set up audio drivers\n",
    "\n",
    "We use **pulseaudio server as default** [Reference](https://askubuntu.com/questions/972510/how-to-set-alsa-default-device-to-pulseaudio-sound-server-on-docker)\n",
    "\n",
    "> **Install audio drivers and dependencies**\n",
    "```bash\n",
    "RUN apt-get -y install libportaudio2\n",
    "RUN apt-get -y install alsa-base \n",
    "RUN apt-get -y install alsa-utils #for playing sound files with aplay \n",
    "RUN apt-get -y install pulseaudio\n",
    "```\n",
    "\n",
    "> **Set PULSE_SERVER** environment variable, **mount** the corresponding directory. Mount the **cookie directory** as well, without which we get alsa permission denied error\n",
    "```bash\n",
    "echo $XDG_RUNTIME_DIR\n",
    "'/run/user/1000'\n",
    "docker run -it \\\n",
    "        -e PULSE_SERVER=unix:${XDG_RUNTIME_DIR}/pulse/native \\ #Set environment variable \n",
    "        -v ${XDG_RUNTIME_DIR}/pulse/native:${XDG_RUNTIME_DIR}/pulse/native \\ #Mount directory\n",
    "        -v ~/.config/pulse/cookie:/root/.config/pulse/cookie #Set up cookie \n",
    "```\n",
    "\n",
    "> **Check setup** (in the container)\n",
    "```bash\n",
    "aplay -L | head -n9\n",
    "```\n",
    ">> **Output** :\n",
    "```bash\n",
    "default\n",
    "    Playback/recording through the PulseAudio sound server\n",
    "    ...\n",
    "```\n",
    "\n",
    "> Check if the speaker works when you play an audio file\n",
    "```bash\n",
    "aplay sample.wav\n",
    "```"
   ]
  },
  {
   "cell_type": "markdown",
   "metadata": {},
   "source": [
    "### Record and play using sounddevice module"
   ]
  },
  {
   "cell_type": "code",
   "execution_count": 8,
   "metadata": {},
   "outputs": [],
   "source": [
    "import sounddevice as sd"
   ]
  },
  {
   "cell_type": "markdown",
   "metadata": {},
   "source": [
    "**Detecting the device**\n",
    "\n",
    "> Make sure  **--device /dev/snd** is added while executing docker run"
   ]
  },
  {
   "cell_type": "code",
   "execution_count": 9,
   "metadata": {},
   "outputs": [
    {
     "data": {
      "text/plain": [
       "   0 HDA Intel PCH: ALC887-VD Analog (hw:0,0), ALSA (2 in, 2 out)\n",
       "   1 HDA Intel PCH: ALC887-VD Digital (hw:0,1), ALSA (0 in, 2 out)\n",
       "   2 HDA Intel PCH: ALC887-VD Alt Analog (hw:0,2), ALSA (2 in, 0 out)\n",
       "   3 HDA NVidia: HDMI 0 (hw:1,3), ALSA (0 in, 2 out)\n",
       "   4 HDA NVidia: HDMI 1 (hw:1,7), ALSA (0 in, 8 out)\n",
       "   5 HDA NVidia: HDMI 2 (hw:1,8), ALSA (0 in, 8 out)\n",
       "   6 HDA NVidia: HDMI 3 (hw:1,9), ALSA (0 in, 8 out)\n",
       "   7 Webcam C170: USB Audio (hw:2,0), ALSA (1 in, 0 out)\n",
       "   8 sysdefault, ALSA (128 in, 128 out)\n",
       "   9 front, ALSA (0 in, 2 out)\n",
       "  10 surround40, ALSA (0 in, 2 out)\n",
       "  11 surround51, ALSA (0 in, 2 out)\n",
       "  12 surround71, ALSA (0 in, 2 out)\n",
       "  13 iec958, ALSA (0 in, 2 out)\n",
       "  14 spdif, ALSA (0 in, 2 out)\n",
       "  15 pulse, ALSA (32 in, 32 out)\n",
       "  16 dmix, ALSA (0 in, 2 out)\n",
       "* 17 default, ALSA (32 in, 32 out)"
      ]
     },
     "execution_count": 9,
     "metadata": {},
     "output_type": "execute_result"
    }
   ],
   "source": [
    "sd.query_devices()"
   ]
  },
  {
   "cell_type": "code",
   "execution_count": 10,
   "metadata": {},
   "outputs": [],
   "source": [
    "fs=44100\n",
    "duration = 5  # seconds"
   ]
  },
  {
   "cell_type": "code",
   "execution_count": 11,
   "metadata": {},
   "outputs": [],
   "source": [
    "myrecording = sd.rec(duration * fs, samplerate=fs, channels=2,dtype='float64') #pass device=.. to select device\n",
    "sd.wait()"
   ]
  },
  {
   "cell_type": "code",
   "execution_count": 12,
   "metadata": {},
   "outputs": [
    {
     "data": {
      "text/plain": [
       "array([[0.00576782, 0.00576782],\n",
       "       [0.        , 0.        ],\n",
       "       [0.        , 0.        ],\n",
       "       ...,\n",
       "       [0.0027771 , 0.0027771 ],\n",
       "       [0.0012207 , 0.0012207 ],\n",
       "       [0.00167847, 0.00167847]])"
      ]
     },
     "execution_count": 12,
     "metadata": {},
     "output_type": "execute_result"
    }
   ],
   "source": [
    "myrecording"
   ]
  },
  {
   "cell_type": "code",
   "execution_count": 13,
   "metadata": {},
   "outputs": [],
   "source": [
    "sd.play(myrecording, fs) #pass device=.. to select device\n",
    "sd.wait()"
   ]
  },
  {
   "cell_type": "code",
   "execution_count": 14,
   "metadata": {},
   "outputs": [
    {
     "data": {
      "text/plain": [
       "(220500, 2)"
      ]
     },
     "execution_count": 14,
     "metadata": {},
     "output_type": "execute_result"
    }
   ],
   "source": [
    "myrecording.shape #fs*5 = 220500"
   ]
  },
  {
   "cell_type": "code",
   "execution_count": null,
   "metadata": {},
   "outputs": [],
   "source": []
  }
 ],
 "metadata": {
  "kernelspec": {
   "display_name": "Python 3",
   "language": "python",
   "name": "python3"
  },
  "language_info": {
   "codemirror_mode": {
    "name": "ipython",
    "version": 3
   },
   "file_extension": ".py",
   "mimetype": "text/x-python",
   "name": "python",
   "nbconvert_exporter": "python",
   "pygments_lexer": "ipython3",
   "version": "3.5.2"
  }
 },
 "nbformat": 4,
 "nbformat_minor": 2
}
