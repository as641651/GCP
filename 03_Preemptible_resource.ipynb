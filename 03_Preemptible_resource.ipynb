{
 "cells": [
  {
   "cell_type": "markdown",
   "metadata": {},
   "source": [
    "## Preemptible machines\n",
    "\n",
    "> If your instance is **preemptible**, google can **arbitarily shut down or re allocate resources** during maintanance and load balancing. This will **cause your instance to restart now and then, esp when resource is idle**. Once shutdown, they must be **restarted MANUALLY** \n",
    "\n",
    "> Costs **much less than non-preemptible machines**. PVMs **work best for testing, quick batch jobs**\n",
    "\n",
    "> When using **preemptible** resource, make sure to have a **clean up script** for the application, that will properly save progess when shutdown signal is sent. (**A soft shutdown signal is sent 30s before hard shutdown**).\n",
    "\n",
    "> PVMs shut down automatically after 24hrs\n",
    "\n",
    "> A **Non Preemptible** machine is a **dedicated machine**"
   ]
  },
  {
   "cell_type": "code",
   "execution_count": null,
   "metadata": {},
   "outputs": [],
   "source": []
  }
 ],
 "metadata": {
  "kernelspec": {
   "display_name": "Python 3",
   "language": "python",
   "name": "python3"
  },
  "language_info": {
   "codemirror_mode": {
    "name": "ipython",
    "version": 3
   },
   "file_extension": ".py",
   "mimetype": "text/x-python",
   "name": "python",
   "nbconvert_exporter": "python",
   "pygments_lexer": "ipython3",
   "version": "3.4.3"
  }
 },
 "nbformat": 4,
 "nbformat_minor": 2
}
