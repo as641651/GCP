{
 "cells": [
  {
   "cell_type": "markdown",
   "metadata": {},
   "source": [
    "## Creating and managing disks (External Hard drive)"
   ]
  },
  {
   "cell_type": "markdown",
   "metadata": {},
   "source": [
    "This can be done via the **disk** option in the **compute engine** interface in **google cloud console**"
   ]
  },
  {
   "cell_type": "markdown",
   "metadata": {},
   "source": [
    "**IMPORTANT**: The **Zone of the disk and the zone of VM Instance must be same!**"
   ]
  },
  {
   "cell_type": "markdown",
   "metadata": {},
   "source": [
    "### 1) Creating disk with [gcloud compute disks](https://cloud.google.com/sdk/gcloud/reference/compute/disks/)"
   ]
  },
  {
   "cell_type": "markdown",
   "metadata": {},
   "source": [
    "> **[create](https://cloud.google.com/sdk/gcloud/reference/compute/disks/create) a persistent disk**\n",
    "```bash\n",
    "gcloud compute disks create [DISK_NAME] --size=[SIZE]GB --zone=[ZONE | DEFAULT IF UNSPECIFIED]\n",
    "```\n",
    "> **New disk must be formatted before being used**"
   ]
  },
  {
   "cell_type": "markdown",
   "metadata": {},
   "source": [
    "### 2) Attaching disk to VM instance with [gcloud compute instances attach-disk](https://cloud.google.com/sdk/gcloud/reference/compute/instances/attach-disk)"
   ]
  },
  {
   "cell_type": "markdown",
   "metadata": {},
   "source": [
    "> **Attach disk to instance** (must be located in same zone)\n",
    "```bash\n",
    "gcloud compute instances attach-disk [VM_INSTANCE_NAME] --disk [DISK_NAME]\n",
    "```\n",
    "\n",
    "> To **check if the disk is attached** to the instance, **log in** and use the command **lsblk**\n",
    "```bash\n",
    "gcloud compute ssh [USERNAME]@[INSTANCE_NAME]\n",
    "lsblk\n",
    "```\n",
    ">> **output :**\n",
    "```bash\n",
    "NAME   MAJ:MIN RM  SIZE RO TYPE MOUNTPOINT\n",
    "sda      8:0    0   10G  0 disk \n",
    "`-sda1   8:1    0   10G  0 part /\n",
    "sdb      8:16   0  100G  0 disk (This is the new disk)\n",
    "```\n"
   ]
  },
  {
   "cell_type": "markdown",
   "metadata": {},
   "source": [
    "### 3) [Format and mount disk](https://cloud.google.com/compute/docs/disks/add-persistent-disk#formatting)"
   ]
  },
  {
   "cell_type": "markdown",
   "metadata": {},
   "source": [
    "> **Format**: (DISK_ID is **sdb**)\n",
    "```bash\n",
    "sudo mkfs.ext4 -m 0 -F -E lazy_itable_init=0,lazy_journal_init=0,discard /dev/[DISK_ID]\n",
    "```\n",
    "\n",
    "> Create a **directory to mount disk**\n",
    "```bash\n",
    "sudo mkdir -p /mnt/disks/new_disk\n",
    "```\n",
    "> **Mount disk**\n",
    "```bash\n",
    "sudo mount -o discard,defaults /dev/[DISK_ID] /mnt/disks/new_disk\n",
    "```\n",
    "> Give **read and write permission**\n",
    "```bash\n",
    "sudo chmod a+w /mnt/disks/new_disk\n",
    "```\n",
    "> **check mount point**\n",
    "```bash\n",
    "lsblk\n",
    "```\n",
    ">>```bash\n",
    "NAME   MAJ:MIN RM  SIZE RO TYPE MOUNTPOINT\n",
    "sda      8:0    0   10G  0 disk \n",
    "`-sda1   8:1    0   10G  0 part /\n",
    "sdb      8:16   0  100G  0 disk /mnt/disks/new_disk\n",
    "```\n",
    "\n",
    "> **IMPORTANT:** The Disk will be **unmounted** when the instance is **stopped** and **started again**! \n",
    "\n",
    "> To avoid mounting process every time the instance is restarted, we have to edit the **/etc/fstab/** file\n",
    "\n",
    ">>```bash\n",
    "sudo cp /etc/fstab /etc/fstab.backup (create backup)\n",
    "sudo blkid /dev/[DISK_ID] (Get UUID of disk)\n",
    "```\n",
    ">>> **out:** /dev/sdb: UUID=\"[UUID_FOR_DISK]\" TYPE=\"ext4\"\n",
    "\n",
    ">>```bash\n",
    "sudo vim /etc/fstab \n",
    "```\n",
    ">>> Add the following line\n",
    ">>> **UUID=[UUID_FOR_DISK] /mnt/disks/new_disk ext4 discard,defaults,nofail 0 2**\n",
    "\n",
    ">>> **NOTE**: When the disk is **detached**, this line should be **removed**!\n"
   ]
  },
  {
   "cell_type": "markdown",
   "metadata": {},
   "source": [
    "### 4) Deleting disk\n",
    "\n",
    "> Before deleting the disk it has to be **detached** from the **instance**\n",
    "```bash\n",
    "gcloud compute instances detach-disk [INSTANCE_NAME] --disk [DISK_NAME]\n",
    "gcloud compute disks delete [DISK_NAME]\n",
    "```"
   ]
  },
  {
   "cell_type": "code",
   "execution_count": null,
   "metadata": {},
   "outputs": [],
   "source": []
  }
 ],
 "metadata": {
  "kernelspec": {
   "display_name": "Python 3",
   "language": "python",
   "name": "python3"
  },
  "language_info": {
   "codemirror_mode": {
    "name": "ipython",
    "version": 3
   },
   "file_extension": ".py",
   "mimetype": "text/x-python",
   "name": "python",
   "nbconvert_exporter": "python",
   "pygments_lexer": "ipython3",
   "version": "3.4.3"
  }
 },
 "nbformat": 4,
 "nbformat_minor": 2
}
