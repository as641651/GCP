{
 "cells": [
  {
   "cell_type": "markdown",
   "metadata": {},
   "source": [
    "## Cloud storage python API"
   ]
  },
  {
   "cell_type": "markdown",
   "metadata": {},
   "source": [
    "> To use the python API, install\n",
    "```bash\n",
    "pip install google-cloud-storage\n",
    "```\n",
    "> Refer the python samples in cloud storage [documentation](https://cloud.google.com/storage/docs/how-to)"
   ]
  },
  {
   "cell_type": "markdown",
   "metadata": {},
   "source": [
    "### Authentication\n",
    "\n",
    "> Reference [document](https://cloud.google.com/docs/authentication/production#providing_credentials_to_your_application)\n",
    "\n",
    "> Create a **Service account** with **required permissions** and **generate json key**"
   ]
  },
  {
   "cell_type": "markdown",
   "metadata": {},
   "source": [
    "> Accessing cloud storage from **local machines or VM instances**\n",
    "\n",
    "```python\n",
    "    #pip install google-cloud-storage\n",
    "    from google.cloud import storage\n",
    "\n",
    "    #pass the service account key as credential\n",
    "    client = storage.Client.from_service_account_json('test-engine-service.json')\n",
    "    bucket = client.get_bucket(\"senesence-bkt-1\")\n",
    "    #destination path in bucket\n",
    "    blob = bucket.blob(\"sql/new_from_aravind.txt\")\n",
    "    #upload the new file in local directory\n",
    "    #Requires Storage writer and Editor permission\n",
    "    blob.upload_from_filename(\"new.txt\")\n",
    "```"
   ]
  },
  {
   "cell_type": "markdown",
   "metadata": {},
   "source": [
    "> Accessing cloud storage from **standard appengine**\n",
    "```bash\n",
    "gcloud auth activate-service-account --key-file [JSON_KEY_FILE]\n",
    "gcloud init\n",
    "gcloud app deploy\n",
    "```\n",
    "\n",
    "> or try\n",
    "```bash\n",
    "gsutil acl ch -u [APPENGINE_DEFAULT_SERVICE_ACCOUNT_ADDRESS]:W gs://[BUCKET_NAME]\n",
    "gcloud app deploy\n",
    "```"
   ]
  },
  {
   "cell_type": "code",
   "execution_count": null,
   "metadata": {},
   "outputs": [],
   "source": []
  }
 ],
 "metadata": {
  "kernelspec": {
   "display_name": "Python 3",
   "language": "python",
   "name": "python3"
  },
  "language_info": {
   "codemirror_mode": {
    "name": "ipython",
    "version": 3
   },
   "file_extension": ".py",
   "mimetype": "text/x-python",
   "name": "python",
   "nbconvert_exporter": "python",
   "pygments_lexer": "ipython3",
   "version": "3.4.3"
  }
 },
 "nbformat": 4,
 "nbformat_minor": 2
}
