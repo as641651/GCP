{
 "cells": [
  {
   "cell_type": "markdown",
   "metadata": {},
   "source": [
    "## Cloud storage python API"
   ]
  },
  {
   "cell_type": "markdown",
   "metadata": {},
   "source": [
    "> To use the python API, install\n",
    "```bash\n",
    "pip install google-cloud-storage\n",
    "```\n",
    "> Refer the python samples in cloud storage [documentation](https://cloud.google.com/storage/docs/how-to)"
   ]
  },
  {
   "cell_type": "markdown",
   "metadata": {},
   "source": [
    "### Authentication\n",
    "\n",
    "> Reference [document](https://cloud.google.com/docs/authentication/production#providing_credentials_to_your_application)\n",
    "\n",
    "> Create a **Service account** with **required permissions** and **generate json key**"
   ]
  },
  {
   "cell_type": "markdown",
   "metadata": {},
   "source": [
    "> Accessing cloud storage from **local machines or VM instances**\n",
    "\n",
    "```python\n",
    "    #pip install google-cloud-storage\n",
    "    from google.cloud import storage\n",
    "\n",
    "    #pass the service account key as credential\n",
    "    client = storage.Client.from_service_account_json('test-engine-service.json')\n",
    "    bucket = client.get_bucket(\"senesence-bkt-1\")\n",
    "    #destination path in bucket\n",
    "    blob = bucket.blob(\"sql/new_from_aravind.txt\")\n",
    "    #upload the new file in local directory\n",
    "    #Requires Storage writer and Editor permission\n",
    "    blob.upload_from_filename(\"new.txt\")\n",
    "```"
   ]
  },
  {
   "cell_type": "markdown",
   "metadata": {},
   "source": [
    "> Accessing cloud storage from **standard appengine**\n",
    "\n",
    ">> **appengine** has its **default bucket storage** in google cloud with **5GB** free memory. This bucket has **all permissions** when **accessed from appengine**. \n",
    "\n",
    ">> **appengine** accesss the **cloud storage** with **different api**\n",
    "```bash\n",
    "pip install GoogleAppEngineCloudStorageClient -t lib\n",
    "```\n",
    "this library will work only from **appengine** or **developmentserver**. Therefore, store this library and add the **appengine_config.py**. And **google.appengine** library will be present only in the **appengine environment** or the **development server**. Reference [set up document](https://cloud.google.com/appengine/docs/standard/python/googlecloudstorageclient/setting-up-cloud-storage)\n",
    "\n",
    ">>simple demonstration with **flask**. Reference [read-write example](https://cloud.google.com/appengine/docs/standard/python/googlecloudstorageclient/read-write-to-cloud-storage) and [api document](https://cloud.google.com/appengine/docs/standard/python/googlecloudstorageclient/functions#listbucket)\n",
    "\n",
    "```python\n",
    "        from flask import Flask\n",
    "\n",
    "\n",
    "        app = Flask(__name__)\n",
    "        app.debug=True\n",
    "\n",
    "        @app.route('/')\n",
    "        def hello():\n",
    "           #google.appengine will be present only in appengine or development server\n",
    "           from google.appengine.api import app_identity\n",
    "           import cloudstorage as gcs\n",
    "\n",
    "           #GEt default bucket name\n",
    "           default_bucket_name = app_identity.get_default_gcs_bucket_name()\n",
    "\n",
    "           out = \"Default bucket : \" + default_bucket_name\n",
    "\n",
    "           ## Write to cloud\n",
    "           filename = '/' + default_bucket_name + '/new.txt'\n",
    "           gcs_file = gcs.open(filename, 'w', content_type='text/plain')\n",
    "           gcs_file.write('abcde\\n')\n",
    "           gcs_file.write('Hello!' + '\\n')\n",
    "           gcs_file.close()\n",
    "\n",
    "           ## Read from cloud\n",
    "           gcs_file = gcs.open(filename)\n",
    "           contents = gcs_file.read()\n",
    "           gcs_file.close()\n",
    "\n",
    "           out += \"<p>Contents :</p>\"\n",
    "           out += \"<p>\" + contents + \"</p>\"\n",
    "\n",
    "           #files CANNOT be appended as the objects are immutable. to append you have to read, modify contents and overwrite \n",
    "\n",
    "           #List items \n",
    "           blist = gcs.listbucket('/' + default_bucket_name)\n",
    "           print(list(blist))\n",
    "\n",
    "           return out \n",
    "\n",
    "        if __name__ == '__main__':\n",
    "            app.run()\n",
    "```"
   ]
  },
  {
   "cell_type": "markdown",
   "metadata": {},
   "source": [
    ">> **To test this code**\n",
    "```bash\n",
    " dev_appserver.py app.yaml --default_gcs_bucket_name [DEFAULT_BUCKET_NAME]\n",
    "```\n",
    "**default bucket name** can be found under **settings** in **appengine**\n",
    "\n",
    ">>**app.yaml**\n",
    "\n",
    "```yaml\n",
    "        runtime: python27\n",
    "        api_version: 1\n",
    "        threadsafe: true\n",
    "\n",
    "        handlers:\n",
    "        - url: /.*\n",
    "          script: main.app\n",
    "\n",
    "        libraries:\n",
    "        - name: flask\n",
    "          version: 0.12\n",
    "```"
   ]
  },
  {
   "cell_type": "code",
   "execution_count": null,
   "metadata": {},
   "outputs": [],
   "source": []
  }
 ],
 "metadata": {
  "kernelspec": {
   "display_name": "Python 3",
   "language": "python",
   "name": "python3"
  },
  "language_info": {
   "codemirror_mode": {
    "name": "ipython",
    "version": 3
   },
   "file_extension": ".py",
   "mimetype": "text/x-python",
   "name": "python",
   "nbconvert_exporter": "python",
   "pygments_lexer": "ipython3",
   "version": "3.4.3"
  }
 },
 "nbformat": 4,
 "nbformat_minor": 2
}
