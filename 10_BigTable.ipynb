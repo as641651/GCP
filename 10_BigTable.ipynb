{
 "cells": [
  {
   "cell_type": "markdown",
   "metadata": {},
   "source": [
    "## Big Table\n",
    "\n",
    "> **NoSql Columnar database**. Used for **fast scanning** of **sequential key value pairs**. Good for **sparse data**.\n",
    "\n",
    "> Its a GCP equivalent of **HBase**. BIg Table is **more scalable** with **low administration burden**\n",
    "\n",
    "> Supports **OLTP** at **row level**. That is, multi-row operatons are not ACID gaurenteed.\n",
    "\n",
    "> The data is **not split** unlike in hadoop. Instead **more instances** are used to increase throughput.\n",
    "\n",
    "> ### When to use:\n",
    "\n",
    ">> When you need **very fast scanning** and **high throughput**\n",
    "\n",
    ">> When **each data item is < 10MB ** and **total data is > 1TB**\n",
    "\n",
    ">> Mostly used for **time-series non structured key-value data**\n",
    "\n",
    "> ### When to avoid :\n",
    "\n",
    ">> **Dont use** Big table if **data size** is **less than 1TB**\n",
    "\n",
    ">> **Dont use** for **analytics or business intelligence usecases**. Use Big Query instead.\n",
    "\n",
    ">> **Dont use** for **higly structured data**. Use DataStore instead.\n",
    "\n",
    ">> **Dont use** for **immutable blobs like movies** each > 10MB. Use cloud storage instead"
   ]
  },
  {
   "cell_type": "markdown",
   "metadata": {},
   "source": [
    "### Traditional RDBMS vs Columnar datastore\n",
    "\n",
    "> **RDBMS:** Data structure arranged in rows and columns; Supports complex queries like grouping, joining, aggregates.\n",
    "\n",
    "> **Hbase** : Data structure arranged in only column-wise manner; Supports only basic operations (CRUD)\n",
    "\n",
    "<img src=\"pics/bigtable\" height=\"100px\" width=\"400px\"/>"
   ]
  },
  {
   "cell_type": "markdown",
   "metadata": {},
   "source": [
    "### Advantages of columnar datastore\n",
    "\n",
    "> **Dynamic addition of attributes**: We can **update/add** columns **without changing data structure**. In SQL, to add a column, we have to use the ALTER TABLE command which will change the schema of the database\n",
    "\n",
    "> **No wastage of space** when storing **sparse data**. In SQL database, we cant deal with sparse columns"
   ]
  },
  {
   "cell_type": "markdown",
   "metadata": {},
   "source": [
    "### Disadvantages of Big Table\n",
    "\n",
    "> Cannot combine information across tables using keys. Therefore, it is important to have **all information pertaining to a single entitity in one row**.\n",
    "\n",
    "> Cannot sort rows by certain column\n",
    "\n",
    "> Cannot group or aggregate data\n",
    "\n",
    "> Overall Big table **supports only CRUD** operations. (CReate Read Update Delete). They do not support SQL operations. If we want other operations, we choose BigQuery."
   ]
  },
  {
   "cell_type": "markdown",
   "metadata": {},
   "source": [
    "### Data model\n",
    "\n",
    "> Each entity is defined by 4 dimension:\n",
    "\n",
    ">> 1) **Row id** (Arranged in ascending order. So that all values with same row id will reside close to each other)\n",
    "\n",
    ">> 2) **Column Family** (Similar to table name in RDBMS. Cant be modified dynamically)\n",
    "\n",
    ">> 3) **Column name** (Can be modified dynamically. Each row can have different number columns)\n",
    "\n",
    ">> 4) **Time stamp** (versioning. If unspecified, retrieves the latest)"
   ]
  },
  {
   "cell_type": "markdown",
   "metadata": {},
   "source": [
    "### Performance issues\n",
    "\n",
    "> **Hotspotting**: When too many read/writes are concentrated close to each other, performance will drop. This is a common problem in **HBase**. **Big Table** gets around this problem by systematically **moving data around** to reduce hot spotting. Hence Big table is used for real-time applications. Another reason for hotspotting might be **poor schema design of data** causing more read writes.\n",
    "\n",
    "> **Use SSD** as they are 20x faster than standard HDD. Dont think about HDD **unless data > 10TB**\n",
    "\n",
    "> Performance is poor when workoad is in short bursts. Big table **needs hours to tune performance internally**.\n",
    "\n",
    "> Number of **column families** should **not exceed 100**"
   ]
  },
  {
   "cell_type": "code",
   "execution_count": null,
   "metadata": {},
   "outputs": [],
   "source": []
  }
 ],
 "metadata": {
  "kernelspec": {
   "display_name": "Python 3",
   "language": "python",
   "name": "python3"
  },
  "language_info": {
   "codemirror_mode": {
    "name": "ipython",
    "version": 3
   },
   "file_extension": ".py",
   "mimetype": "text/x-python",
   "name": "python",
   "nbconvert_exporter": "python",
   "pygments_lexer": "ipython3",
   "version": "3.4.3"
  }
 },
 "nbformat": 4,
 "nbformat_minor": 2
}
