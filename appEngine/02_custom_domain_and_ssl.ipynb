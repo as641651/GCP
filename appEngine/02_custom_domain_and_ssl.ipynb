{
 "cells": [
  {
   "cell_type": "markdown",
   "metadata": {},
   "source": [
    "## Pointing to a custom domain name"
   ]
  },
  {
   "cell_type": "markdown",
   "metadata": {},
   "source": [
    "The best thing about **app engine** is that google automatically provides your site with **SSL certificate** at **no extra cost**"
   ]
  },
  {
   "cell_type": "markdown",
   "metadata": {},
   "source": [
    "> Go to **app engine > settings > custom domain name**\n",
    "\n",
    "> If you want a new domain name, click **register domain**. You will be redirected to **[Google domain registration](https://domains.google/#/)**. Purchase your domain name.\n",
    "\n",
    "> **Add your domain name** in the app engine settings. Eg. **naked domain name** like **aravindankaran.in** automatically redirects to **http://www.aravindsankaran.in**.  \n",
    "\n",
    "> You will be provided with **A**, **AAA** and **CNAME** records. \n",
    "\n",
    "> Go to **google domain registration** site and click on **configure DNS** for your domain name.\n",
    "\n",
    "> Under **custom recored** add all records with name **@** for **A** and **AA**, **www** for **CNAME**\n",
    "\n",
    "> After saving changes, SSL certificate will be activated after few minutes. This will be reflected in GCP appengine settings. Alternatively, you can see the status by typing\n",
    "```bash\n",
    "gcloud app domain-mappings list\n",
    "```\n",
    "> Now if you hit your domain name, you should be redirected to your deployed app.\n",
    "\n",
    "> **NOTE**: **SSL certificate** will be shown only if your domain is appended with **https**. If you have not specified **https://aravindsankaran.in** while adding custom domain, you will only be using **http**. Alternatively, you can add the **secure:always** handler in **app.yaml** to automatically redirect with **https**\n",
    "\n",
    "```yaml\n",
    "        handlers:\n",
    "        - url: /.*\n",
    "          script: main.app\n",
    "          secure: always\n",
    "```\n"
   ]
  },
  {
   "cell_type": "code",
   "execution_count": null,
   "metadata": {},
   "outputs": [],
   "source": []
  }
 ],
 "metadata": {
  "kernelspec": {
   "display_name": "Python 3",
   "language": "python",
   "name": "python3"
  },
  "language_info": {
   "codemirror_mode": {
    "name": "ipython",
    "version": 3
   },
   "file_extension": ".py",
   "mimetype": "text/x-python",
   "name": "python",
   "nbconvert_exporter": "python",
   "pygments_lexer": "ipython3",
   "version": "3.4.3"
  }
 },
 "nbformat": 4,
 "nbformat_minor": 2
}
