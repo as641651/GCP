{
 "cells": [
  {
   "cell_type": "markdown",
   "metadata": {},
   "source": [
    "### Standard vs Flexible App engine"
   ]
  },
  {
   "cell_type": "markdown",
   "metadata": {},
   "source": [
    "**App Engine** spawns and manages **instances**. Standard and Flexible environments **scale** instances differently\n",
    "\n",
    "> **Standard App engine** instances scales to **0**!.  This is, **instance** is automatically shut down when server is idle. (Unless **scaling** is set to **Manual** in **app.yaml**). Useful for sites with rare traffic\n",
    "\n",
    "> **Flexible App engine** uses **minimum one VM instances** and scales automatically unless set to manual. Pricing for **CPU and persistant disk** is **included**. Useful for sites with consistent traffic"
   ]
  },
  {
   "cell_type": "markdown",
   "metadata": {},
   "source": [
    "**Libraries** that can be used by **standard app engine** is restricted"
   ]
  },
  {
   "cell_type": "markdown",
   "metadata": {},
   "source": [
    "> **Standard app engine** is restricted to use from **[built-in binaries](https://cloud.google.com/appengine/docs/standard/python/tools/built-in-libraries-27)** list \n",
    "\n",
    "> As of **Oct,2018**, **standard app engine** does **not support python3**. For python2, **django 1.11** is the maximum support.\n",
    "\n",
    "> While using **django 1.11**, only **pure python** third party libraries can be used. That is, the libraries should not contain c++ codes. "
   ]
  },
  {
   "cell_type": "code",
   "execution_count": null,
   "metadata": {},
   "outputs": [],
   "source": []
  }
 ],
 "metadata": {
  "kernelspec": {
   "display_name": "Python 3",
   "language": "python",
   "name": "python3"
  },
  "language_info": {
   "codemirror_mode": {
    "name": "ipython",
    "version": 3
   },
   "file_extension": ".py",
   "mimetype": "text/x-python",
   "name": "python",
   "nbconvert_exporter": "python",
   "pygments_lexer": "ipython3",
   "version": "3.4.3"
  }
 },
 "nbformat": 4,
 "nbformat_minor": 2
}
