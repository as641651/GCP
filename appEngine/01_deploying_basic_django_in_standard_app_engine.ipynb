{
 "cells": [
  {
   "cell_type": "markdown",
   "metadata": {},
   "source": [
    "## Deploying django app in standard app engine"
   ]
  },
  {
   "cell_type": "markdown",
   "metadata": {},
   "source": [
    "> As of **Oct 2018**, GCP **standard app engine** supports only **python 2.7.x**\n",
    "\n",
    "> The latest version of **django** supported by **python 2.7** is **1.11**\n",
    "\n",
    "> Reference [document](https://cloud.google.com/appengine/docs/standard/python/getting-started/python-standard-env)"
   ]
  },
  {
   "cell_type": "markdown",
   "metadata": {},
   "source": [
    "### Basic django app without Database"
   ]
  },
  {
   "cell_type": "markdown",
   "metadata": {},
   "source": [
    "> Create **python2.7.6** virtual env and install **django 1.11**\n",
    "```bash\n",
    "conda create -n app_py2 python==2.7.6\n",
    "source activate app_py2\n",
    "pip install django==1.11\n",
    "#Useful when deploying in other local machines\n",
    "conda env export > environment.yml\n",
    "```\n",
    "\n",
    "> Create a simple django server with index page\n",
    "```bash\n",
    "django-admin startproject demo\n",
    "cd demo\n",
    "django-admin startapp demoapp\n",
    "```\n",
    "\n",
    "> In **settings.py**, \n",
    "```python\n",
    "#SET \n",
    "Database = {}\n",
    "#ALLOWED HOST\n",
    "ALLOWED_HOSTS = [u'[GCP_PROJECT_ID].appspot.com','127.0.0.1']\n",
    "#ADD TO INSTALLED APP\n",
    "INSTALLED_APPS = [..,'demoapp',...]\n",
    "```\n",
    "\n",
    "> In **demoapp/views.py**\n",
    "\n",
    "```python\n",
    "        # -*- coding: utf-8 -*-\n",
    "        from __future__ import unicode_literals\n",
    "\n",
    "        from django.shortcuts import render\n",
    "        from django.views.generic import TemplateView\n",
    "\n",
    "        # Create your views here.\n",
    "        class IndexView(TemplateView):\n",
    "            template_name='index.html'\n",
    "```\n",
    "\n",
    "> In **urls.py** (NOTE: Use djnago1.11 conventions)\n",
    "\n",
    "```python\n",
    "        from django.conf.urls import url\n",
    "        from django.contrib import admin\n",
    "        from demoapp import views\n",
    "\n",
    "        urlpatterns = [\n",
    "            url(r'^admin/', admin.site.urls),\n",
    "            url(r'^$',views.IndexView.as_view(),name='index'),\n",
    "        ]\n",
    "```"
   ]
  },
  {
   "cell_type": "markdown",
   "metadata": {},
   "source": [
    "### Define Configuration file\n",
    "\n",
    "> **app.yaml** hold the configuration information for your app, that ll be used by **app engine**\n",
    "\n",
    "```yaml\n",
    "        runtime: python27\n",
    "        api_version: 1\n",
    "        threadsafe: true #Allows editing from multiple request simultaneously\n",
    "\n",
    "        handlers:\n",
    "        - url: /.* # '.' represesnts any character. '*' represents multiples of previous expression\n",
    "          script: demo.wsgi.application\n",
    "\n",
    "        libraries: ##Specify the built-in libraries\n",
    "        - name: django\n",
    "          version: 1.11\n",
    "```"
   ]
  },
  {
   "cell_type": "markdown",
   "metadata": {},
   "source": [
    "### Test\n",
    "\n",
    "> **dev_appserver.py** is installed along with google cloud SDK\n",
    "```bash\n",
    "dev_appserver.py app.yaml\n",
    "```"
   ]
  },
  {
   "cell_type": "markdown",
   "metadata": {},
   "source": [
    "### Deploy\n",
    "\n",
    "> Run this command from the folder containing **app.yaml**\n",
    "```bash\n",
    "gcloud app deploy\n",
    "```\n",
    "> This **creates a bucket** in **cloud storage** and **synchronizes** this directory for **api_version**. That is, if any file is changed and the **deploy** command is run again with **same api_version**, only the chaged file will be re-uploaded/overwirtten.\n",
    "\n",
    "> This will also create an **instance** in **app engine** that will be **automatically scaled from 0**. That is, if the server is inactive for some time, no instances will be used!\n",
    "\n",
    "> The app is now deployed at \n",
    "```url\n",
    "http://[YOUR_PROJECT_ID].appspot.com\n",
    "```"
   ]
  },
  {
   "cell_type": "markdown",
   "metadata": {},
   "source": [
    "### Using third-party libraries that are not built-in standard environment"
   ]
  },
  {
   "cell_type": "markdown",
   "metadata": {},
   "source": [
    "Reference [document](https://cloud.google.com/appengine/docs/standard/python/tools/using-libraries-python-27)\n",
    "\n",
    "> Only **pure python** thirdparty libraries can be used. That is, these libraries should not contain c++ codes\n",
    "\n",
    "> Lets demonstrate this by using our own version of django instead of built-in version\n",
    "\n",
    ">> So we remove **libraries** from **app.yaml**\n",
    "\n",
    "```yaml\n",
    "        runtime: python27\n",
    "        api_version: 1\n",
    "        threadsafe: true \n",
    "\n",
    "        handlers:\n",
    "        - url: /.* \n",
    "          script: demo.wsgi.application\n",
    "```"
   ]
  },
  {
   "cell_type": "markdown",
   "metadata": {},
   "source": [
    ">> Create a file names **appengine_config.py** in the folder containing app.yaml\n",
    "\n",
    "```python\n",
    "        from google.appengine.ext import vendor\n",
    "\n",
    "        # Add any libraries installed in the \"lib\" folder.\n",
    "        vendor.add('lib')\n",
    "```\n"
   ]
  },
  {
   "cell_type": "markdown",
   "metadata": {},
   "source": [
    ">> Add the source code of third party libs under the folder **lib** from the directory containing app.yaml. To get the library files of django use the command\n",
    "```bash\n",
    "pip install -t lib django==1.11\n",
    "```\n",
    "This just downloads the files under directory **lib** without installing"
   ]
  },
  {
   "cell_type": "markdown",
   "metadata": {},
   "source": [
    "### Pointing to static files\n",
    "\n",
    ">For GCP to find the static files, we collect all static files of the project and place it under the path specified in **STATIC_ROOT** in **settings.py**\n",
    "```python\n",
    "STATIC_ROOT='[DIR_NAME]'\n",
    "```\n",
    "\n",
    ">Run the following command to collect all static files\n",
    "```bash\n",
    "python manage.py collectstatic\n",
    "```\n",
    "\n",
    ">Set the **url handler** for static files in **app.yaml**\n",
    "\n",
    "```yaml\n",
    "    handlers:\n",
    "    - url: /static\n",
    "      static_dir: [DIR_NAME]/\n",
    "    - url: /.*\n",
    "      script: demo_static.wsgi.application\n",
    "```"
   ]
  },
  {
   "cell_type": "code",
   "execution_count": null,
   "metadata": {},
   "outputs": [],
   "source": []
  }
 ],
 "metadata": {
  "kernelspec": {
   "display_name": "Python 3",
   "language": "python",
   "name": "python3"
  },
  "language_info": {
   "codemirror_mode": {
    "name": "ipython",
    "version": 3
   },
   "file_extension": ".py",
   "mimetype": "text/x-python",
   "name": "python",
   "nbconvert_exporter": "python",
   "pygments_lexer": "ipython3",
   "version": "3.4.3"
  }
 },
 "nbformat": 4,
 "nbformat_minor": 2
}
