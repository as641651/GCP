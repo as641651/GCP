{
 "cells": [
  {
   "cell_type": "markdown",
   "metadata": {},
   "source": [
    "## Cloud SQL"
   ]
  },
  {
   "cell_type": "markdown",
   "metadata": {},
   "source": [
    "It is a **Relational database** used for **Online Transaction processing (OLTP)**\n",
    "\n",
    "**Cloud spanner** is a google propritry which has additional features to Cloud SQL. It is used for **mission critical services**"
   ]
  },
  {
   "cell_type": "markdown",
   "metadata": {},
   "source": [
    "Creating **sql instances** on google cloud **costs as much as VM instances**"
   ]
  },
  {
   "cell_type": "markdown",
   "metadata": {},
   "source": [
    "**[gcloud sql](https://cloud.google.com/sdk/gcloud/reference/sql/)** is used to manage sql instances and its databases "
   ]
  },
  {
   "cell_type": "markdown",
   "metadata": {},
   "source": [
    ">**create** sql instance\n",
    "```bash\n",
    "gcloud sql instances create [INSTANCE_NAME]\n",
    "```\n",
    "\n",
    ">**List** all sql instance\n",
    "```bash\n",
    "gcloud sql instances list\n",
    "```"
   ]
  },
  {
   "cell_type": "markdown",
   "metadata": {},
   "source": [
    ">**log in to sql instance**\n",
    "> **NOTE:** needs **mysql-client** to be installed\n",
    "```bash\n",
    "sudo apt-get install mysql-client\n",
    "```\n",
    "\n",
    ">```bash\n",
    "gcloud sql connect [INSTANCE_NAME]\n",
    "```\n",
    "This will first **whitelist** the **ip** before loggin in and then ask for **root** password.\n",
    "\n",
    ">> If a **user account** has been set, then \n",
    "```bash\n",
    "gcloud sql connect [INSTANCE_NAME] --user=[USERNAME]\n",
    "```\n",
    "\n",
    "> can also be logged in through **mysql client**\n",
    "```bash\n",
    " mysql --host=[EXTERNAL_IP_OF_SQL_INSTANCE] --user=[USERNAME] --password=[PASSWORD]\n",
    "```\n",
    ">> **NOTE:** To use this, the IP address of the connecting machine must be **whitelisted** or **must be in the list of authorized ips**\n"
   ]
  },
  {
   "cell_type": "markdown",
   "metadata": {},
   "source": [
    "**Once logged in**, we can use the **usual sql commands** to navigate\n",
    "\n",
    "> **list all databases**\n",
    "```bash\n",
    "show databases;\n",
    "```\n",
    "\n",
    ">**connect to a database**\n",
    "```bash\n",
    "use [DB_NAME];\n",
    "```\n",
    "\n",
    ">> **show all tables in a DB**\n",
    "```bash\n",
    "show tables;\n",
    "```\n",
    ">> **describe a table**\n",
    "```bash\n",
    "describe [TABLE_NAME];\n",
    "```\n",
    ">>**show all contents in a table**\n",
    "```sql\n",
    "SELECT * FROM [TABLE_NAME];\n",
    "```\n",
    ">>**count the number of entries** in a table\n",
    "```sql\n",
    "SELECT COUNT(*) FROM [TABLE_NAME];\n",
    "```\n",
    ">>**There are also commands to create databases and tables. see SQL documentation**"
   ]
  },
  {
   "cell_type": "markdown",
   "metadata": {},
   "source": [
    "### Upload and download\n",
    "\n",
    "> To **Upload** a sql database (SQL commands to create tables) to the instance\n",
    "```bash\n",
    "gcloud sql connect [INSTANCE_NAME] --user=[USERNAME] < [SQL_DATABSE]\n",
    "```\n",
    "If the sql db is in **google cloud storage**, we can use the **gcloud sql import** command. \n",
    "\n",
    "> To use **import and export** the **service account of sql instance** must be given permission to access **bucket**. To avoid this trouble, one can also conveniently transfer from the **console**.\n",
    "\n",
    ">If using **gcloud**, \n",
    "```bash\n",
    "gcloud sql instances describe [SQL_INSTANCE_NAME]\n",
    "```\n",
    "grab the **service account email id**\n",
    "```bash\n",
    "#Write permission For exporting to bucket\n",
    "gsutil acl ch -u [SERVICE_ACCOUNT_ADDRESS]:W gs://[BUCKET_NAME]\n",
    "#Read permission for importing from bucket\n",
    "gsutil acl ch -u [SERVICE_ACCOUNT_ADDRESS]:R gs://[BUCKET_NAME]/[IMPORT_FILE_NAME]\n",
    "```\n",
    "\n",
    ">To **fill the database** with data in a **csv** file present in google cloud\n",
    "```bash\n",
    "gcloud sql import csv [SQL_INSTANCE_NAME] gs://[BUCKET_NAME]/[CSV_FILE] -d [DATABASEB_NAME] --table=[TABLE_NAME]\n",
    "```\n",
    "\n",
    "> **Exporting** databse to **cloud storage**\n",
    "```bash\n",
    "#Export as SQL\n",
    "gcloud sql export sql [SQL_INSTANCE_NAME] gs://[BUCKET_NAME]/[FILE_NAME] -d [DATABASE_NAME]\n",
    "#Export a table in database as CSV\n",
    "gcloud sql export csv [SQL_INSTANCE_NAME] gs://[BUCKET_NAME]/[FILE_NAME] -d [DATABASE_NAME] --query=\"[SELECT * FROM some_table_in_db]\"\n",
    "```"
   ]
  },
  {
   "cell_type": "code",
   "execution_count": null,
   "metadata": {},
   "outputs": [],
   "source": []
  }
 ],
 "metadata": {
  "kernelspec": {
   "display_name": "Python 3",
   "language": "python",
   "name": "python3"
  },
  "language_info": {
   "codemirror_mode": {
    "name": "ipython",
    "version": 3
   },
   "file_extension": ".py",
   "mimetype": "text/x-python",
   "name": "python",
   "nbconvert_exporter": "python",
   "pygments_lexer": "ipython3",
   "version": "3.4.3"
  }
 },
 "nbformat": 4,
 "nbformat_minor": 2
}
