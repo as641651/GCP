{
 "cells": [
  {
   "cell_type": "markdown",
   "metadata": {},
   "source": [
    "## Set up gcloud"
   ]
  },
  {
   "cell_type": "markdown",
   "metadata": {},
   "source": [
    "Quick start manual for **linux** is available [here](https://cloud.google.com/sdk/docs/quickstart-linux)"
   ]
  },
  {
   "cell_type": "markdown",
   "metadata": {},
   "source": [
    "**Download and Install:** (In your local machine)\n",
    "\n",
    ">```bash\n",
    "wget [URL]\n",
    "tar zxvf [ARCHIVE_FILE] google-cloud-sdk\n",
    "./google-cloud-sdk/install.sh\n",
    "```\n"
   ]
  },
  {
   "cell_type": "markdown",
   "metadata": {},
   "source": [
    "**Initialize with your gmail account and project**\n",
    "\n",
    ">```bash\n",
    "gcloud init --console-only\n",
    "```\n",
    "> You will be propted to login to your gmail account and enter a verification key. Upon successful verification, you ll be prompted to select the project\n",
    "\n",
    ">```bash\n",
    "Pick cloud project to use:\n",
    " [1] [my-project-1]\n",
    " [2] [my-project-2]\n",
    " ...\n",
    " Please enter your numeric choice:\n",
    "```\n",
    "\n",
    "> Next you will be prompted to choose a **default zone**\n",
    "\n",
    "> **Initialization** is **complete**. \n",
    "\n",
    "> To view **default config**:\n",
    "```bash\n",
    " gcloud config list\n",
    "```"
   ]
  },
  {
   "cell_type": "markdown",
   "metadata": {},
   "source": [
    "## Manage VM Instances "
   ]
  },
  {
   "cell_type": "markdown",
   "metadata": {},
   "source": [
    "Now you can use the **gcloud** command to control the **instances** belonging to the chosen project"
   ]
  },
  {
   "cell_type": "markdown",
   "metadata": {},
   "source": [
    ">To **list all created instances** under the **chosen project**:\n",
    "```bash\n",
    "gcloud compute instances list\n",
    "```\n",
    "\n",
    "> To see **all available commands under compute instances** hit\n",
    "\n",
    "```bash \n",
    "    gcloud compute instances\n",
    "\n",
    "        usage: gcloud compute instances [optional flags] <group | command>\n",
    "          group may be           network-interfaces\n",
    "          command may be         add-access-config | add-labels | add-metadata |\n",
    "                                 add-tags | attach-disk | create |\n",
    "                                 create-with-container | delete | delete-access-config |\n",
    "                                 describe | detach-disk | get-serial-port-output |\n",
    "                                 list | move | remove-labels | remove-metadata |\n",
    "                                 remove-tags | reset | set-disk-auto-delete |\n",
    "                                 set-machine-type | set-scheduling |\n",
    "                                 set-service-account | simulate-maintenance-event |\n",
    "                                 start | stop | tail-serial-port-output | update |\n",
    "                                 update-access-config | update-container\n",
    "\n",
    "```\n"
   ]
  },
  {
   "cell_type": "markdown",
   "metadata": {},
   "source": [
    "> To **[create](https://cloud.google.com/sdk/gcloud/reference/compute/instances/create) instance** (under default zone and settings)\n",
    "```bash\n",
    "gcloud compute instances create [instance_name]\n",
    "```"
   ]
  },
  {
   "cell_type": "markdown",
   "metadata": {},
   "source": [
    "> To **[stop](https://cloud.google.com/sdk/gcloud/reference/compute/instances/start) a created instance**\n",
    "```bash\n",
    "gcloud compute instances stop [instance_name]\n",
    "```\n",
    "(--zone) should be specified if the instance is not in the default zone"
   ]
  },
  {
   "cell_type": "markdown",
   "metadata": {},
   "source": [
    "> To **re-[start](https://cloud.google.com/sdk/gcloud/reference/compute/instances/start) a created instance**\n",
    "```bash\n",
    "gcloud compute instances start [instance_name]\n",
    "```"
   ]
  },
  {
   "cell_type": "markdown",
   "metadata": {},
   "source": [
    "> To **[delete](https://cloud.google.com/sdk/gcloud/reference/compute/instances/delete) a created instance**\n",
    "```bash\n",
    "gcloud compute instances delete [instance_name]\n",
    "```"
   ]
  },
  {
   "cell_type": "markdown",
   "metadata": {},
   "source": [
    "**[Reference](https://cloud.google.com/sdk/gcloud/reference/compute/instances/)** for all available options for **compute instances** "
   ]
  },
  {
   "cell_type": "code",
   "execution_count": null,
   "metadata": {},
   "outputs": [],
   "source": []
  }
 ],
 "metadata": {
  "kernelspec": {
   "display_name": "Python 3",
   "language": "python",
   "name": "python3"
  },
  "language_info": {
   "codemirror_mode": {
    "name": "ipython",
    "version": 3
   },
   "file_extension": ".py",
   "mimetype": "text/x-python",
   "name": "python",
   "nbconvert_exporter": "python",
   "pygments_lexer": "ipython3",
   "version": "3.4.3"
  }
 },
 "nbformat": 4,
 "nbformat_minor": 2
}
