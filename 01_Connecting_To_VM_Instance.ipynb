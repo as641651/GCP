{
 "cells": [
  {
   "cell_type": "markdown",
   "metadata": {},
   "source": [
    "## A) Connecting to a VM instance through SSH"
   ]
  },
  {
   "cell_type": "markdown",
   "metadata": {},
   "source": [
    "### Generate SSH key in local machine\n",
    "\n",
    "```bash\n",
    "ssh-keygen -t rsa -f ~/.ssh/[KEY_FILENAME] -C [USERNAME]\n",
    "```\n",
    "> where\n",
    ">> [KEY_FILENAME] is the name that you want to use for your SSH key files.\n",
    "\n",
    ">> [USERNAME] is the user for whom you will apply this SSH key. (can be arbitary)\n",
    "\n",
    ">> **eg. ssh-keygen -t rsa -f ~/.ssh/gcp1 -C aravindsankaran22**"
   ]
  },
  {
   "cell_type": "markdown",
   "metadata": {},
   "source": [
    "> This command generates a private SSH key file and a matching public SSH key:\n",
    "\n",
    ">> **Public key**: ~/.ssh/gcp1.pub\n",
    "\n",
    ">> **Private key**: ~/.ssh/gcp1"
   ]
  },
  {
   "cell_type": "markdown",
   "metadata": {},
   "source": [
    "### Add the public key to the VM instance in cloud"
   ]
  },
  {
   "cell_type": "markdown",
   "metadata": {},
   "source": [
    "In the google cloud instance page,\n",
    "\n",
    "> 1) Click the name of the instance that you want to modify.\n",
    "\n",
    "> 2) Click **Edit** in the top bar.\n",
    "\n",
    "> 3) Under **SSH Keys**, click **Show and edit**. The section expands to show all of the instance-level public SSH keys.\n",
    "\n",
    ">4) To add a public SSH key, click **Add item**. This will produce a text box. Copy the contents of your **public SSH key file** and paste them in to the text box. Repeat this process for each public SSH key that you want to add. Each key has to be in the format :\n",
    "\n",
    ">> **ssh-rsa [KEY_VALUE] [USERNAME]**"
   ]
  },
  {
   "cell_type": "markdown",
   "metadata": {},
   "source": [
    "### Connecting from local machine\n",
    "\n",
    "```bash\n",
    "ssh -i [PATH_TO_PRIVATE_KEY] [USERNAME]@[EXTERNAL_IP_ADDRESS]\n",
    "```\n",
    "\n",
    "> **eg :**\n",
    "```bash\n",
    "ssh -i ~/.ssh/gcp_1 aravindsankaran22@35.200.250.132\n",
    "```\n",
    "\n",
    ">**Note:** The **external IP** address **keeps changing**"
   ]
  },
  {
   "cell_type": "markdown",
   "metadata": {},
   "source": [
    "**Reference**\n",
    "> 1) [Adding SSH key](https://cloud.google.com/compute/docs/instances/adding-removing-ssh-keys#instance-only)\n",
    "\n",
    "> 2) [Connecting through SSH](https://cloud.google.com/compute/docs/instances/connecting-advanced#thirdpartytools) "
   ]
  },
  {
   "cell_type": "markdown",
   "metadata": {},
   "source": [
    "## B) Connecting to a VM instance through gcloud"
   ]
  },
  {
   "cell_type": "markdown",
   "metadata": {},
   "source": [
    "> This is much simpler with **[gcloud compute ssh](https://cloud.google.com/sdk/gcloud/reference/compute/ssh)**\n",
    "\n",
    "> If your **gcloud** is initialized with the respective **project** you can simply hit\n",
    "```bash\n",
    "gcloud compute ssh [USERNAME]@[INSTANCE_NAME]\n",
    "```\n",
    "\n",
    "> **username** should matche with the **default username** (aravindsankaran22) when trying to open the console from browser. Otherwise, **new user account with new environment** will be **created** (Files under default account will not be accessible) "
   ]
  },
  {
   "cell_type": "markdown",
   "metadata": {},
   "source": []
  }
 ],
 "metadata": {
  "kernelspec": {
   "display_name": "Python 3",
   "language": "python",
   "name": "python3"
  },
  "language_info": {
   "codemirror_mode": {
    "name": "ipython",
    "version": 3
   },
   "file_extension": ".py",
   "mimetype": "text/x-python",
   "name": "python",
   "nbconvert_exporter": "python",
   "pygments_lexer": "ipython3",
   "version": "3.4.3"
  }
 },
 "nbformat": 4,
 "nbformat_minor": 2
}
