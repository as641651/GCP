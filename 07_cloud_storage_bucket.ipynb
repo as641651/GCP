{
 "cells": [
  {
   "cell_type": "markdown",
   "metadata": {},
   "source": [
    "## Google Cloud storage\n",
    "\n",
    "> Here the data is stored in **buckets**. \n",
    "\n",
    "> They are **scalable** and are **charged based on the size of contents in bucket**\n",
    "\n",
    "> Commonly used for storing **multimedia** or **storing/accessing data for your web app** or **Serving static websites**."
   ]
  },
  {
   "cell_type": "markdown",
   "metadata": {},
   "source": [
    "### There are different storage classes for different usecases\n",
    "\n",
    ">1) **Multi-regional** : If the data in bucket is frequently accessed from around the globe (USD 0.025/GB/month)\n",
    "\n",
    ">2) **Regional** : If the data is accessed frequently only from a particular region (USD 0.02/GB/month)\n",
    "\n",
    ">3) **Nearline**: If data is not frequently accessed. Mostly used for backup data (USD 0.01/GB/month). \n",
    "But has access cost of USD 0.01 per GB and charged for minimum 30 days\n",
    "\n",
    ">4) **coldline**: If data is not frequently accessed but required high latency.(USD 0.007/GB/month) Used when restore time of back up data should be quicker. Access cost is more than that of nearline (USD 0.05/GB)"
   ]
  },
  {
   "cell_type": "markdown",
   "metadata": {},
   "source": [
    "### Creating a bucket\n",
    "\n",
    "> Done via **GCP console** under **Storage > storage**\n",
    "\n",
    "> The **name of the bucket** should be **globally unique**\n",
    "\n",
    "> Creating in **command line** using **[gsutil](https://cloud.google.com/storage/docs/gsutil)** - tool to access cloud storage\n",
    "```bash\n",
    "gsutil mb -p [PROJECT_NAME] -c [STORAGE_CLASS] -l [BUCKET_LOCATION] gs://[BUCKET_NAME]/\n",
    "```"
   ]
  },
  {
   "cell_type": "markdown",
   "metadata": {},
   "source": [
    "### List all buckets in a project\n",
    "\n",
    ">```bash\n",
    "gsutil ls\n",
    "```"
   ]
  },
  {
   "cell_type": "markdown",
   "metadata": {},
   "source": [
    "### Checking size of the bucket\n",
    "\n",
    ">This is done via commandline. This command displays the size of all buckets under a project\n",
    "```bash\n",
    "gsutil du -s -h\n",
    "```\n",
    "**Note:** -h displays the size in KB/MB/GB\n",
    "\n",
    ">To display size of single bucket\n",
    "```bash\n",
    "gsutil du -s -h gs://[BUCKET_NAME]/\n",
    "```"
   ]
  },
  {
   "cell_type": "markdown",
   "metadata": {},
   "source": [
    "### Uploading files\n",
    "\n",
    "> This can be done through the console or through **gsutil**\n",
    "```bash\n",
    "gsutil cp [FILE_PATH] gs://[BUCKET_NAME]\n",
    "```\n",
    "\n",
    "> For directories,\n",
    "```bash\n",
    "gsutil cp -r [DIR_PATH] gs://[BUCKET_NAME]\n",
    "```\n",
    "\n",
    "> To copy large number files under a directory\n",
    "```bash\n",
    "gsutil rsync -R [FILE_PATH] gs://[BUCKET_NAME]\n",
    "```\n",
    "\n",
    "> To copy files between buckets\n",
    "```bash\n",
    "gsutil cp -r -p gs://[BUCKET_NAME_1]/* gs://[BUCKET_NAME_2]\n",
    "```\n",
    "**-p** copies over **permission** of all **files**"
   ]
  },
  {
   "cell_type": "markdown",
   "metadata": {},
   "source": [
    "### Hosting a static webpage\n",
    "\n",
    "> **Upload** HTML file(s). By default, **permission** is **not public**\n",
    "\n",
    "> Click the three dots next to file name and **edit permissions**.\n",
    "\n",
    ">> Select **User** for the Entity.\n",
    "\n",
    ">> Enter **allUsers** for the Name.\n",
    "    \n",
    ">> Select **Reader** for the Access.\n",
    "\n",
    "> Your file will now be **public** and there will be an **icon which will redirect you to the URL**\n",
    "\n",
    ">> The URL is of form:\n",
    "```bash\n",
    "https://storage.googleapis.com/[BUCKER_NAME]/[FILE_NAME]\n",
    "```"
   ]
  },
  {
   "cell_type": "markdown",
   "metadata": {},
   "source": [
    "### Setting lifecycle\n",
    "\n",
    "> The lifecycle configuration specifies that all objects in a bucket that are more than certain period old will be deleted automatically or changed to nearline/coldline storage class\n",
    "\n",
    "> They are useful when we want to **manage log files**\n",
    "\n",
    "> This can be applied only to whole bucket and not to individual files\n",
    "\n",
    "> This can be done easily through **console** or through command line as follows\n",
    "```bash\n",
    "gsutil lifecycle set config.json gs://[BUCKET_NAME]\n",
    "```\n",
    ">>**config.json**\n",
    "```json\n",
    "{\n",
    "  \"rule\":\n",
    "  [\n",
    "    {\n",
    "      \"action\": {\"type\": \"Delete\"},\n",
    "      \"condition\": {\"age\": 365} #Files more than 365 days will be deleted\n",
    "    }\n",
    "  ]\n",
    "}\n",
    "```\n",
    "\n",
    "> To **get** lifecycle settings for a bucket\n",
    "```bash\n",
    "gsutil lifecycle get gs://[BUCKET_NAME]\n",
    "```"
   ]
  },
  {
   "cell_type": "code",
   "execution_count": null,
   "metadata": {},
   "outputs": [],
   "source": []
  }
 ],
 "metadata": {
  "kernelspec": {
   "display_name": "Python 3",
   "language": "python",
   "name": "python3"
  },
  "language_info": {
   "codemirror_mode": {
    "name": "ipython",
    "version": 3
   },
   "file_extension": ".py",
   "mimetype": "text/x-python",
   "name": "python",
   "nbconvert_exporter": "python",
   "pygments_lexer": "ipython3",
   "version": "3.4.3"
  }
 },
 "nbformat": 4,
 "nbformat_minor": 2
}
