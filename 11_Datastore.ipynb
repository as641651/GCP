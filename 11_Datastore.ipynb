{
 "cells": [
  {
   "cell_type": "markdown",
   "metadata": {},
   "source": [
    "## Datastore\n",
    "\n",
    "> Used for storing data in **XML** like format.  Uses Heirarchical data structure.\n",
    "\n",
    "> **Look up time** is **constant** irrespective of data size. Supports **ACID** properties.\n",
    "\n",
    "> It is **serverless**. That is, we do not need to create an instance. \n",
    "\n",
    "> Charges scales depending on number of operations. There are enough free operations quota per day. It also comes with free storage quota of 1GB.\n",
    "\n",
    "> It is possible to  **[disconnect django from sql database](http://www.librador.com/2011/05/23/How-to-run-Django-tests-without-a-database/)** (We wont be able to use the models, admin and auth features), and use **django forms** to get data and store them into **datastore** through [python google API](https://cloud.google.com/datastore/docs/datastore-api-tutorial). "
   ]
  },
  {
   "cell_type": "markdown",
   "metadata": {},
   "source": [
    "**Do not use Datastore for storing immutable blobs like multimedia files. Use Google FileStore instead** (or Google cloud storage if you dont need high bandwidth)"
   ]
  },
  {
   "cell_type": "code",
   "execution_count": null,
   "metadata": {},
   "outputs": [],
   "source": []
  }
 ],
 "metadata": {
  "kernelspec": {
   "display_name": "Python 3",
   "language": "python",
   "name": "python3"
  },
  "language_info": {
   "codemirror_mode": {
    "name": "ipython",
    "version": 3
   },
   "file_extension": ".py",
   "mimetype": "text/x-python",
   "name": "python",
   "nbconvert_exporter": "python",
   "pygments_lexer": "ipython3",
   "version": "3.4.3"
  }
 },
 "nbformat": 4,
 "nbformat_minor": 2
}
