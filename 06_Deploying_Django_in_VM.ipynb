{
 "cells": [
  {
   "cell_type": "markdown",
   "metadata": {},
   "source": [
    "## Deploying Django in a VM instance"
   ]
  },
  {
   "cell_type": "markdown",
   "metadata": {},
   "source": [
    "1) Create a **firewall rule** to allow a **tcp port**\n",
    "\n",
    ">```bash\n",
    "gcloud compute firewall-rules create [RULE_NAME] \\\n",
    "    --allow tcp:8080 \\\n",
    "    --source-ranges 0.0.0.0/0 \\\n",
    "    --description \"Allow port 8080 access to http-server\"\n",
    "```\n",
    "\n",
    ">This allows the port **8080** to be accessed through the **external ip address** of the instance as \n",
    "```bash\n",
    "http://[INSTANCE_EXTERNAL_IP]/8080\n",
    "```\n",
    ">**NOTE**:\n",
    "\n",
    ">> 1) This can also be done through the GCP interface under **VPC network** option.\n",
    "\n",
    ">> 2) By default, this setting **opens the port 8080** for **all VM instances in the project**. To restrict the access only to certain VM instances, add **network tag** to the VM instance and edit the firewall rule to allow only that specific tag\n",
    "```bash\n",
    "gcloud compute firewall-rules create default-allow-http-8080 \\\n",
    "    --allow tcp:8080 \\\n",
    "    --source-ranges 0.0.0.0/0 \\\n",
    "    --target-tags http-server \\\n",
    "    --description \"Allow port 8080 access to http-server\"\n",
    "```\n",
    "(if '**http-server**' tag is used, simply check the **allow HTTP traffic** option in **VM instance details**)"
   ]
  },
  {
   "cell_type": "markdown",
   "metadata": {},
   "source": [
    "2) In your **django projects settings.py**, add the **VM instances External IP** to **ALLOWED_HOSTS**\n",
    ">```bash\n",
    "ALLOWED_HOSTS=['<External IP>']\n",
    "```\n",
    "\n",
    ">**NOTE:** The default external ip keeps changing. Go to **VPC network > External IP addresss** and reserve a **static external IP**"
   ]
  },
  {
   "cell_type": "markdown",
   "metadata": {},
   "source": [
    "3) Run Django project \n",
    "```bash\n",
    "python manage.py runserver 0.0.0.0:8080\n",
    "```\n",
    "> **[Ref](https://stackoverflow.com/questions/25550116/access-django-app-from-other-computers)**"
   ]
  },
  {
   "cell_type": "markdown",
   "metadata": {},
   "source": [
    "4) To automatically run the **django project** upon restarting machine, we have to write a **startup script**. Example [here](https://cloud.google.com/python/tutorials/bookshelf-on-compute-engine)"
   ]
  },
  {
   "cell_type": "code",
   "execution_count": null,
   "metadata": {},
   "outputs": [],
   "source": []
  }
 ],
 "metadata": {
  "kernelspec": {
   "display_name": "Python 3",
   "language": "python",
   "name": "python3"
  },
  "language_info": {
   "codemirror_mode": {
    "name": "ipython",
    "version": 3
   },
   "file_extension": ".py",
   "mimetype": "text/x-python",
   "name": "python",
   "nbconvert_exporter": "python",
   "pygments_lexer": "ipython3",
   "version": "3.4.3"
  }
 },
 "nbformat": 4,
 "nbformat_minor": 2
}
